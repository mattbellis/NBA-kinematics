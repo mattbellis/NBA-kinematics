{
 "cells": [
  {
   "cell_type": "code",
   "execution_count": null,
   "metadata": {
    "collapsed": true
   },
   "outputs": [],
   "source": [
    "import numpy as np\n",
    "import matplotlib.pylab as plt\n",
    "import sys\n",
    "%matplotlib notebook \n",
    "\n",
    "sys.path.insert(0, '../sportvu/')\n",
    "import reading as r"
   ]
  },
  {
   "cell_type": "code",
   "execution_count": null,
   "metadata": {},
   "outputs": [],
   "source": [
    "############## 1 day rest ####################\n",
    "## game 1, celtics home\n",
    "g1 = [\"game1_q1.XML\", \"game1_q2.XML\", \"game1_q3.XML\", \"game1_q4.XML\"]\n",
    "players_g1, celtics_players_g1, wizards_players_g1, celtics_team_g1 ,wizards_team_g1, ball_g1, celtics_score_g1, wizards_score_g1, sc_g1 = r.get_player_data(g1)\n",
    "r.playerNames(celtics_team_g1,wizards_team_g1)\n",
    "\n",
    "\n",
    "## game 2, celtics home\n",
    "g2 = [\"game2_q1.XML\", \"game2_q2.XML\", \"game2_q3.XML\", \"game2_q4.XML\", \"game2_OT.XML\"]\n",
    "players_g2, celtics_players_g2, wizards_players_g2, celtics_team_g2 ,wizards_team_g2, ball_g2, celtics_score_g2, wizards_score_g2, sc_g2 = r.get_player_data(g2)\n",
    "r.playerNames(celtics_team_g2,wizards_team_g2)\n",
    "\n",
    "\n",
    "## game 3, wizards home\n",
    "g3 = [\"game3_q1.XML\", \"game3_q2.XML\", \"game3_q3.XML\", \"game3_q4.XML\"]\n",
    "players_g3, wizards_players_g3, celtics_players_g3, wizards_team_g3 , celtics_team_g3, ball_g3, wizards_score_g3, celtics_score_g3, sc_g3 = r.get_player_data(g3)\n",
    "r.playerNames(wizards_team_g3, celtics_team_g3)\n",
    "\n",
    "\n",
    "\n",
    "\n",
    "## game 6, wizards home\n",
    "g6 = [\"game6_q1.XML\", \"game6_q2.XML\", \"game6_q3.XML\", \"game6_q4.XML\"]\n",
    "players_g6, wizards_players_g6, celtics_players_g6, wizards_team_g6 , celtics_team_g6, ball_g6, wizards_score_g6, celtics_score_g6, sc_g6 = r.get_player_data(g6)\n",
    "r.playerNames(wizards_team_g6, celtics_team_g6)\n",
    "\n",
    "\n",
    "\n",
    "\n",
    "############## 2 days rest ####################\n",
    "## game 4, wizards home\n",
    "g4 = [\"game4_q1.XML\", \"game4_q2.XML\", \"game4_q3.XML\", \"game4_q4.XML\"]\n",
    "players_g4, wizards_players_g4, celtics_players_g4, wizards_team_g4 , celtics_team_g4, ball_g4, wizards_score_g4, celtics_score_g4, sc_g4 = r.get_player_data(g4)\n",
    "r.playerNames(wizards_team_g3, celtics_team_g3)\n",
    "\n",
    "\n",
    "\n",
    "## game 5, celtics home\n",
    "g5 = [\"game5_q1.XML\", \"game5_q2.XML\", \"game5_q3.XML\", \"game5_q4.XML\"]\n",
    "players_g5, celtics_players_g5, wizards_players_g5, celtics_team_g5 ,wizards_team_g5, ball_g5, celtics_score_g5, wizards_score_g5, sc_g5 = r.get_player_data(g5)\n",
    "r.playerNames(celtics_team_g5,wizards_team_g5)\n",
    "\n",
    "\n",
    "## game 7, celtics home\n",
    "g7 = [\"game7_q1.XML\", \"game7_q2.XML\", \"game7_q3.XML\", \"game7_q4.XML\"]\n",
    "players_g7, celtics_players_g7, wizards_players_g7, celtics_team_g7 ,wizards_team_g7, ball_g7, celtics_score_g7, wizards_score_g7, sc_g7 = r.get_player_data(g7)\n",
    "r.playerNames(celtics_team_g7,wizards_team_g7)\n"
   ]
  },
  {
   "cell_type": "code",
   "execution_count": null,
   "metadata": {
    "collapsed": true
   },
   "outputs": [],
   "source": [
    "\n",
    "celtics_players_1day = [celtics_players_g1, celtics_players_g2, celtics_players_g3, celtics_players_g6]\n",
    "celtics_players_2day = [celtics_players_g4, celtics_players_g5,celtics_players_g7]\n",
    "\n",
    "celtics_team_1day = [celtics_team_g1, celtics_team_g2, celtics_team_g3,  celtics_team_g6]\n",
    "celtics_team_2day = [celtics_team_g4, celtics_team_g5, celtics_team_g7]"
   ]
  },
  {
   "cell_type": "code",
   "execution_count": null,
   "metadata": {
    "collapsed": true
   },
   "outputs": [],
   "source": [
    "## should be added to reading.py. just wanted it in notebook to reference and tweak if needed.\n",
    "\n",
    "def percentage(player, lowerLimit, upperLimit):\n",
    "    plt.xlabel(\"Velocity(m/s)\", fontsize = 14)\n",
    "    plt.ylabel(\"Percentage of Time Spent over Given Velocity\", fontsize = 14)\n",
    "    \n",
    "    ############# change numpoints for increased accuracy !!! ##############\n",
    "    numpoints = 50\n",
    "    ########################################################################\n",
    "    \n",
    "    velocities = np.array(np.linspace(lowerLimit, upperLimit, numpoints))\n",
    "    \n",
    "\n",
    "    #print player\n",
    "    percentages = np.zeros(numpoints)\n",
    "    count = 0.0\n",
    "        #print len(v)\n",
    "        \n",
    "    v = player['v']\n",
    "    for i in range(0, len(v)):\n",
    "\n",
    "        count += 1.0\n",
    "        for k in range(0, len(velocities)): #-1,-1):\n",
    "            #print len(velocities)\n",
    "            if v[i] >= velocities[k]:\n",
    "            #for j in range(0, k+1):\n",
    "                percentages[k] = percentages[k] + 1.0\n",
    "            elif v[i] == -1:\n",
    "                percentages[0] = percentages[0] + 1.0\n",
    "                break\n",
    "\n",
    "    plt.gca()\n",
    "    plt.plot(velocities,percentages/count, label = player['name'], lw = 3)\n",
    "        \n",
    "        #plt.label()\n",
    "           \n",
    "        #print len(velocities)\n",
    "    plt.legend(loc = 'best')\n",
    "        \n",
    "                    "
   ]
  },
  {
   "cell_type": "code",
   "execution_count": null,
   "metadata": {
    "collapsed": true
   },
   "outputs": [],
   "source": [
    "## want to iterate through team, and add each key(player) to a list\n",
    "## iterate again, combining each players velocities and veloTimes to two big lists for each player\n",
    "## then call percentages \n",
    "\n",
    "     "
   ]
  },
  {
   "cell_type": "code",
   "execution_count": null,
   "metadata": {
    "collapsed": true
   },
   "outputs": [],
   "source": []
  }
 ],
 "metadata": {
  "kernelspec": {
   "display_name": "Python 3",
   "language": "python",
   "name": "python3"
  },
  "language_info": {
   "codemirror_mode": {
    "name": "ipython",
    "version": 3
   },
   "file_extension": ".py",
   "mimetype": "text/x-python",
   "name": "python",
   "nbconvert_exporter": "python",
   "pygments_lexer": "ipython3",
   "version": "3.6.2"
  }
 },
 "nbformat": 4,
 "nbformat_minor": 2
}
