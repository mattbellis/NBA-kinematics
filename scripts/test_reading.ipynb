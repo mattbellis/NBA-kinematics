{
 "cells": [
  {
   "cell_type": "code",
   "execution_count": null,
   "metadata": {},
   "outputs": [],
   "source": [
    "import numpy as np\n",
    "\n",
    "import matplotlib.pylab as plt\n",
    "#%matplotlib notebook # for normal people\n",
    "\n",
    "#for ben\n",
    "%matplotlib inline\n",
    "\n",
    "import sys\n",
    "sys.path.insert(0, '../sportvu/')\n",
    "\n",
    "\n",
    "import reading"
   ]
  },
  {
   "cell_type": "code",
   "execution_count": null,
   "metadata": {},
   "outputs": [],
   "source": [
    "#infilename = ['Sportvu_Data/quarter1.XML']\n",
    "infilename = ['quarter1.XML', 'quarter2.XML', 'quarter3.XML', 'quarter4.XML']\n",
    "\n",
    "#game_data = reading.get_player_data(infilename)\n",
    "\n",
    "#print(game_data)\n",
    "players,homeplayers,awayplayers,hometeam,awayteam,ball, homeScore, awayScore, sc = reading.get_player_data(infilename)"
   ]
  },
  {
   "cell_type": "code",
   "execution_count": null,
   "metadata": {
    "collapsed": true
   },
   "outputs": [],
   "source": [
    "print(hometeam['3234'].keys())\n"
   ]
  },
  {
   "cell_type": "code",
   "execution_count": null,
   "metadata": {
    "collapsed": true
   },
   "outputs": [],
   "source": [
    "print(len(hometeam['3234']['veloTime']))\n",
    "print(len(hometeam['3234']['gameTime']))\n",
    "print(len(hometeam['3234']['ke']))\n",
    "print(len(hometeam['3234']['powerTime']))\n",
    "#print(len(hometeam['3234']['gametime']))\n",
    "#print(hometeam['3234']['t'])\n",
    "sumf = 0\n",
    "count = 0\n",
    "for i in range(len(awayteam['338365']['ke'])):\n",
    "    if awayteam['338365']['ke'][i] < 1000 and hometeam['3234']['ke'] != -1:\n",
    "        #print awayteam['338365']['ke'][i]\n",
    "        sumf += awayteam['338365']['ke'][i]\n",
    "        count+=1\n",
    "    \n",
    "    \n",
    "print(sumf/count)\n",
    "#print max(hometeam['3234']['ke'])"
   ]
  },
  {
   "cell_type": "code",
   "execution_count": null,
   "metadata": {
    "collapsed": true
   },
   "outputs": [],
   "source": [
    "print len(homeplayers)"
   ]
  },
  {
   "cell_type": "code",
   "execution_count": null,
   "metadata": {
    "collapsed": true
   },
   "outputs": [],
   "source": [
    "print homeplayers[1]"
   ]
  },
  {
   "cell_type": "code",
   "execution_count": null,
   "metadata": {},
   "outputs": [],
   "source": [
    "## just change between home / away and PID number to see a different player\n",
    "\n",
    "x = awayteam['338365']\n",
    "print(type(x['v']))\n",
    "v = np.array(x['v'])\n",
    "t = np.array(x['veloTime'])\n",
    "\n",
    "valid = v > -1\n",
    "v = v[valid]\n",
    "t = t[valid]\n",
    "\n",
    "q1 = t < 720.0\n",
    "q2 = t > 720.0\n",
    "q2 = t < 1440.0\n",
    "q3 = t > 1440.0\n",
    "q3 = t < 2160.0\n",
    "q4 = t > 2160.0\n",
    "\n",
    "vq1 = np.average(v[q1])\n",
    "print vq1\n",
    "vq2 = np.average(v[q2])\n",
    "print vq2\n",
    "vq3 = np.average(v[q3])\n",
    "print vq3\n",
    "vq4 = np.average(v[q4])\n",
    "print vq4"
   ]
  },
  {
   "cell_type": "code",
   "execution_count": null,
   "metadata": {},
   "outputs": [],
   "source": [
    "## used a scatter plot for the velocity just so last point of one quarter -> first of next quarter don't connect \n",
    "\n",
    "\n",
    "plt.figure(figsize = (18,12))\n",
    "################# these plot the average for each quarter ###############\n",
    "\n",
    "plt.plot(np.linspace(0, 720.0,100), np.linspace(vq1,vq1,100), lw = 4)\n",
    "plt.plot(np.linspace(720.0,1440.0, 100), np.linspace(vq2,vq2,100), lw = 4)\n",
    "plt.plot(np.linspace(1440.0, 2160.0, 100), np.linspace(vq3,vq3,100), lw = 4)\n",
    "plt.plot(np.linspace(2160.0, 2880.0,100), np.linspace(vq4,vq4,100), lw = 4)\n",
    "############################################################################\n",
    "plt.ylim(0,6)\n",
    "plt.xlim(0,max(t) + 10)\n",
    "\n",
    "plt.scatter(t,v,s = 2)\n",
    "plt.xlabel(\"Time(s)\")\n",
    "plt.ylabel(\"Velocity(m/s)\")"
   ]
  },
  {
   "cell_type": "code",
   "execution_count": null,
   "metadata": {
    "collapsed": true
   },
   "outputs": [],
   "source": [
    "x.keys()"
   ]
  },
  {
   "cell_type": "code",
   "execution_count": null,
   "metadata": {},
   "outputs": [],
   "source": [
    "print(t[-10:])\n",
    "print(v[-10:])"
   ]
  },
  {
   "cell_type": "code",
   "execution_count": null,
   "metadata": {},
   "outputs": [],
   "source": [
    "print hometeam['3234']['veloTime'][-10:]"
   ]
  },
  {
   "cell_type": "code",
   "execution_count": null,
   "metadata": {
    "collapsed": true
   },
   "outputs": [],
   "source": []
  }
 ],
 "metadata": {
  "kernelspec": {
   "display_name": "Python 2",
   "language": "python",
   "name": "python2"
  },
  "language_info": {
   "codemirror_mode": {
    "name": "ipython",
    "version": 2
   },
   "file_extension": ".py",
   "mimetype": "text/x-python",
   "name": "python",
   "nbconvert_exporter": "python",
   "pygments_lexer": "ipython2",
   "version": "2.7.6"
  }
 },
 "nbformat": 4,
 "nbformat_minor": 2
}
