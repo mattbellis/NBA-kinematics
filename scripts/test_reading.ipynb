{
 "cells": [
  {
   "cell_type": "code",
   "execution_count": null,
   "metadata": {},
   "outputs": [],
   "source": [
    "import numpy as np\n",
    "import matplotlib.pylab as plt\n",
    "import sys\n",
    "%matplotlib notebook \n",
    "\n",
    "sys.path.insert(0, '../sportvu/')\n",
    "import reading as r"
   ]
  },
  {
   "cell_type": "code",
   "execution_count": null,
   "metadata": {},
   "outputs": [],
   "source": [
    "infilename = ['Sportvu_Data/quarter1.XML',\n",
    "             'Sportvu_Data/quarter2.XML',\n",
    "             'Sportvu_Data/quarter3.XML',\n",
    "             'Sportvu_Data/quarter4.XML']\n",
    "infilename = ['quarter1.XML', 'quarter2.XML', 'quarter3.XML', 'quarter4.XML']\n",
    "\n",
    "players,homeplayers,awayplayers,hometeam,awayteam,ball, homeScore, awayScore, sc = r.get_player_data(infilename)\n",
    "r.playerNames(hometeam,awayteam)"
   ]
  },
  {
   "cell_type": "code",
   "execution_count": null,
   "metadata": {
    "collapsed": true
   },
   "outputs": [],
   "source": [
    "def percentage(player, lowerLimit, upperLimit):\n",
    "    #plt.figure(figsize = (12,9))\n",
    "#     plt.xlabel(\"Velocity(m/s)\", fontsize = 14)\n",
    "#     plt.ylabel(\"Percentage of Time Spent over Given Velocity\", fontsize = 14)\n",
    "    \n",
    "    ############# change numpoints for increased accuracy !!! ##############\n",
    "    numpoints = 50\n",
    "    ########################################################################\n",
    "    \n",
    "    velocities = np.array(np.linspace(lowerLimit, upperLimit, numpoints))\n",
    "    \n",
    "\n",
    "    #print player\n",
    "    percentages = np.zeros(numpoints)\n",
    "    count = 0.0\n",
    "        #print len(v)\n",
    "        \n",
    "    v = player['v']\n",
    "    for i in range(0, len(v)):\n",
    "\n",
    "        count += 1.0\n",
    "        for k in range(0, len(velocities)): #-1,-1):\n",
    "            #print len(velocities)\n",
    "            if v[i] >= velocities[k]:\n",
    "            #for j in range(0, k+1):\n",
    "                percentages[k] = percentages[k] + 1.0\n",
    "            elif v[i] == -1:\n",
    "                percentages[0] = percentages[0] + 1.0\n",
    "                break\n",
    "\n",
    "    plt.gca()\n",
    "    plt.plot(velocities,percentages/count, label = player['name'], lw = 3)\n",
    "        \n",
    "        #plt.label()\n",
    "           \n",
    "        #print len(velocities)\n",
    "    plt.legend(loc = 'best')\n",
    "        \n",
    "                    "
   ]
  },
  {
   "cell_type": "code",
   "execution_count": null,
   "metadata": {
    "collapsed": true
   },
   "outputs": [],
   "source": [
    "percentage(hometeam['3234'],.5, 1.5)"
   ]
  },
  {
   "cell_type": "code",
   "execution_count": null,
   "metadata": {
    "collapsed": true
   },
   "outputs": [],
   "source": [
    "percentage(awayteam,3)"
   ]
  },
  {
   "cell_type": "code",
   "execution_count": null,
   "metadata": {
    "collapsed": true
   },
   "outputs": [],
   "source": [
    "print(homeScore)"
   ]
  },
  {
   "cell_type": "code",
   "execution_count": null,
   "metadata": {},
   "outputs": [],
   "source": [
    "plt.figure(figsize=(8,16))\n",
    "plt.xlabel(\"Velocity(m/s)\", fontsize = 14)\n",
    "plt.ylabel(\"Percentage of Time Spent over Given Velocity\", fontsize = 14)\n",
    "\n",
    "#plt.ylim(0, .7)\n",
    "for i,key in enumerate(awayteam.keys()):\n",
    "    #print(i,key)\n",
    "    \n",
    "    plt.subplot(3,1,1+int(i/5))\n",
    "    #plt.plot([int(key)],[int(ky)],'o')\n",
    "    percentage(awayteam[key], .5, 1.5)\n",
    "plt.legend()\n",
    "plt.tight_layout()"
   ]
  },
  {
   "cell_type": "code",
   "execution_count": null,
   "metadata": {
    "collapsed": true
   },
   "outputs": [],
   "source": [
    "print hometeam.keys()"
   ]
  },
  {
   "cell_type": "code",
   "execution_count": null,
   "metadata": {
    "collapsed": true
   },
   "outputs": [],
   "source": []
  }
 ],
 "metadata": {
  "kernelspec": {
   "display_name": "Python 3",
   "language": "python",
   "name": "python3"
  },
  "language_info": {
   "codemirror_mode": {
    "name": "ipython",
    "version": 3
   },
   "file_extension": ".py",
   "mimetype": "text/x-python",
   "name": "python",
   "nbconvert_exporter": "python",
   "pygments_lexer": "ipython3",
   "version": "3.6.3"
  }
 },
 "nbformat": 4,
 "nbformat_minor": 2
}
