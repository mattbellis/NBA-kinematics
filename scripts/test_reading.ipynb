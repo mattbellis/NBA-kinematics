{
 "cells": [
  {
   "cell_type": "code",
   "execution_count": null,
   "metadata": {},
   "outputs": [],
   "source": [
    "import numpy as np\n",
    "\n",
    "import matplotlib.pylab as plt\n",
    "%matplotlib notebook\n",
    "\n",
    "import sys\n",
    "sys.path.insert(0, '../sportvu/')\n",
    "\n",
    "\n",
    "import reading"
   ]
  },
  {
   "cell_type": "code",
   "execution_count": null,
   "metadata": {},
   "outputs": [],
   "source": [
    "#infilename = ['Sportvu_Data/quarter1.XML']\n",
    "infilename = ['quarter1.XML']\n",
    "\n",
    "#game_data = reading.get_player_data(infilename)\n",
    "\n",
    "#print(game_data)\n",
    "players,homeplayers,awayplayers,hometeam,awayteam,ball, homeScore, awayScore, sc = reading.get_player_data(infilename)"
   ]
  },
  {
   "cell_type": "code",
   "execution_count": null,
   "metadata": {},
   "outputs": [],
   "source": [
    "print(hometeam['3234'].keys())\n"
   ]
  },
  {
   "cell_type": "code",
   "execution_count": null,
   "metadata": {},
   "outputs": [],
   "source": [
    "print(len(hometeam['3234']['veloTime']))\n",
    "print(len(hometeam['3234']['gameTime']))\n",
    "print(len(hometeam['3234']['ke']))\n",
    "print(len(hometeam['3234']['powerTime']))\n",
    "#print(len(hometeam['3234']['gametime']))\n",
    "#print(hometeam['3234']['t'])\n",
    "sumf = 0\n",
    "count = 0\n",
    "for i in range(len(awayteam['338365']['ke'])):\n",
    "    if awayteam['338365']['ke'][i] < 1000 and hometeam['3234']['ke'] != -1:\n",
    "        #print awayteam['338365']['ke'][i]\n",
    "        sumf += awayteam['338365']['ke'][i]\n",
    "        count+=1\n",
    "    \n",
    "    \n",
    "print(sumf/count)\n",
    "#print max(hometeam['3234']['ke'])"
   ]
  },
  {
   "cell_type": "code",
   "execution_count": null,
   "metadata": {
    "collapsed": true
   },
   "outputs": [],
   "source": [
    "print len(homeplayers)"
   ]
  },
  {
   "cell_type": "code",
   "execution_count": null,
   "metadata": {
    "collapsed": true
   },
   "outputs": [],
   "source": [
    "print homeplayers[1]"
   ]
  },
  {
   "cell_type": "code",
   "execution_count": null,
   "metadata": {},
   "outputs": [],
   "source": [
    "x = hometeam['3234']\n",
    "print(type(x['v']))\n",
    "v = np.array(x['v'])\n",
    "t = np.array(x['veloTime'])\n",
    "\n"
   ]
  },
  {
   "cell_type": "code",
   "execution_count": null,
   "metadata": {},
   "outputs": [],
   "source": [
    "valid = v > -1\n",
    "\n",
    "plt.plot(t[valid],v[valid])"
   ]
  },
  {
   "cell_type": "code",
   "execution_count": null,
   "metadata": {},
   "outputs": [],
   "source": [
    "x.keys()"
   ]
  },
  {
   "cell_type": "code",
   "execution_count": null,
   "metadata": {},
   "outputs": [],
   "source": [
    "print(t[-10:])\n",
    "print(v[-10:])"
   ]
  },
  {
   "cell_type": "code",
   "execution_count": null,
   "metadata": {
    "collapsed": true
   },
   "outputs": [],
   "source": []
  }
 ],
 "metadata": {
  "kernelspec": {
   "display_name": "Python 3",
   "language": "python",
   "name": "python3"
  },
  "language_info": {
   "codemirror_mode": {
    "name": "ipython",
    "version": 3
   },
   "file_extension": ".py",
   "mimetype": "text/x-python",
   "name": "python",
   "nbconvert_exporter": "python",
   "pygments_lexer": "ipython3",
   "version": "3.6.2"
  }
 },
 "nbformat": 4,
 "nbformat_minor": 2
}
