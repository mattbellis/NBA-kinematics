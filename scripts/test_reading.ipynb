{
 "cells": [
  {
   "cell_type": "code",
   "execution_count": 1,
   "metadata": {},
   "outputs": [],
   "source": [
    "import numpy as np\n",
    "\n",
    "import sys\n",
    "sys.path.insert(0, '../sportvu/')\n",
    "\n",
    "\n",
    "import reading"
   ]
  },
  {
   "cell_type": "code",
   "execution_count": 2,
   "metadata": {},
   "outputs": [
    {
     "name": "stdout",
     "output_type": "stream",
     "text": [
      "Getting positions....\n",
      "Calculating velocities....\n",
      "Calculating energies....\n",
      "Calculating powers....\n",
      "Initializing keys....\n",
      "Reordering the players in the dictionaries...\n"
     ]
    }
   ],
   "source": [
    "infilename = ['quarter1.XML']\n",
    "\n",
    "#game_data = reading.get_player_data(infilename)\n",
    "\n",
    "#print(game_data)\n",
    "players,homeplayers,awayplayers,hometeam,awayteam,ball, homeScore, awayScore, sc = reading.get_player_data(infilename)"
   ]
  },
  {
   "cell_type": "code",
   "execution_count": 3,
   "metadata": {},
   "outputs": [
    {
     "name": "stdout",
     "output_type": "stream",
     "text": [
      "['mins', 'power', 'ke', 'veloTime', 'gameTime', 'm', 'powerTime', 'v', 'y', 'x', 'z']\n"
     ]
    }
   ],
   "source": [
    "print hometeam['3234'].keys()\n"
   ]
  },
  {
   "cell_type": "code",
   "execution_count": 23,
   "metadata": {},
   "outputs": [
    {
     "name": "stdout",
     "output_type": "stream",
     "text": [
      "10706\n",
      "10706\n",
      "10706\n",
      "10706\n",
      "49.8317903592\n"
     ]
    }
   ],
   "source": [
    "print len(hometeam['3234']['veloTime'])\n",
    "print len(hometeam['3234']['gameTime'])\n",
    "print len(hometeam['3234']['ke'])\n",
    "print len(hometeam['3234']['powerTime'])\n",
    "#print len(hometeam['3234']['gametime'])\n",
    "#print hometeam['3234']['t']\n",
    "sumf = 0\n",
    "count = 0\n",
    "for i in range(len(awayteam['338365']['ke'])):\n",
    "    if awayteam['338365']['ke'][i] < 1000 and hometeam['3234']['ke'] != -1:\n",
    "        #print awayteam['338365']['ke'][i]\n",
    "        sumf += awayteam['338365']['ke'][i]\n",
    "        count+=1\n",
    "    \n",
    "    \n",
    "print sumf/count\n",
    "#print max(hometeam['3234']['ke'])"
   ]
  },
  {
   "cell_type": "code",
   "execution_count": null,
   "metadata": {
    "collapsed": true
   },
   "outputs": [],
   "source": [
    "print len(homeplayers)"
   ]
  },
  {
   "cell_type": "code",
   "execution_count": null,
   "metadata": {
    "collapsed": true
   },
   "outputs": [],
   "source": [
    "print homeplayers[1]"
   ]
  },
  {
   "cell_type": "code",
   "execution_count": null,
   "metadata": {
    "collapsed": true
   },
   "outputs": [],
   "source": []
  }
 ],
 "metadata": {
  "kernelspec": {
   "display_name": "Python 2",
   "language": "python",
   "name": "python2"
  },
  "language_info": {
   "codemirror_mode": {
    "name": "ipython",
    "version": 2
   },
   "file_extension": ".py",
   "mimetype": "text/x-python",
   "name": "python",
   "nbconvert_exporter": "python",
   "pygments_lexer": "ipython2",
   "version": "2.7.6"
  }
 },
 "nbformat": 4,
 "nbformat_minor": 2
}
