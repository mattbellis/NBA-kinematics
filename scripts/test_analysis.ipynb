{
 "cells": [
  {
   "cell_type": "markdown",
   "metadata": {},
   "source": [
    "[Box score](http://www.espn.com/nba/boxscore?gameId=400900450)"
   ]
  },
  {
   "cell_type": "code",
   "execution_count": null,
   "metadata": {},
   "outputs": [],
   "source": [
    "import numpy as np\n",
    "import matplotlib.pylab as plt\n",
    "import sys\n",
    "%matplotlib notebook \n",
    "\n",
    "sys.path.insert(0, '../sportvu/')\n",
    "import reading as r"
   ]
  },
  {
   "cell_type": "code",
   "execution_count": null,
   "metadata": {},
   "outputs": [],
   "source": [
    "infilename = ['Sportvu_Data/quarter1.XML',\n",
    "             'Sportvu_Data/quarter2.XML',\n",
    "             'Sportvu_Data/quarter3.XML',\n",
    "             'Sportvu_Data/quarter4.XML']\n",
    "\n",
    "#infilename = ['Sportvu_Data/quarter1.XML']\n",
    "\n",
    "\n",
    "#infilename = ['quarter1.XML', 'quarter2.XML', 'quarter3.XML', 'quarter4.XML']\n",
    "\n",
    "players,homeplayers,awayplayers,hometeam,awayteam,ball, homeScore, awayScore, sc = r.get_player_data(infilename)\n",
    "#r.playerNames(hometeam,awayteam)"
   ]
  },
  {
   "cell_type": "code",
   "execution_count": null,
   "metadata": {
    "collapsed": true
   },
   "outputs": [],
   "source": [
    "def percentage(player, lowerLimit, upperLimit,numpoints=50,mykey='v'):\n",
    "    \n",
    "    velocities = np.array(np.linspace(lowerLimit, upperLimit, numpoints))\n",
    "\n",
    "    percentages = np.zeros(numpoints)\n",
    "    count = 0.0\n",
    "\n",
    "    v = player[mykey]\n",
    "    \n",
    "    npoints = len(v[v>0])\n",
    "    \n",
    "    for k in range(0, len(velocities)):\n",
    "        percentages[k] = len(v[v>velocities[k]])\n",
    "\n",
    "    return percentages/npoints,velocities"
   ]
  },
  {
   "cell_type": "code",
   "execution_count": null,
   "metadata": {},
   "outputs": [],
   "source": [
    "p,v = percentage(hometeam['3234'],0, 6.5,numpoints=50)\n",
    "\n",
    "plt.figure()\n",
    "plt.plot(v,p)\n",
    "\n",
    "print(p,v)"
   ]
  },
  {
   "cell_type": "code",
   "execution_count": null,
   "metadata": {},
   "outputs": [],
   "source": [
    "#percentage(awayteam,3,5)\n",
    "hometeam.keys()"
   ]
  },
  {
   "cell_type": "code",
   "execution_count": null,
   "metadata": {},
   "outputs": [],
   "source": [
    "print(homeScore)"
   ]
  },
  {
   "cell_type": "code",
   "execution_count": null,
   "metadata": {
    "scrolled": false
   },
   "outputs": [],
   "source": [
    "plt.figure(figsize=(8,12))\n",
    "plt.xlabel(\"Velocity(m/s)\", fontsize = 14)\n",
    "plt.ylabel(\"Percentage of Time Spent over Given Velocity\", fontsize = 14)\n",
    "\n",
    "#plt.ylim(0, .7)\n",
    "#for i,key in enumerate(awayteam.keys()):\n",
    "for i,key in enumerate(hometeam.keys()):\n",
    "\n",
    "    print(i,key)\n",
    "    \n",
    "    plt.subplot(3,1,1+int(i/5))\n",
    "    player = hometeam[key]\n",
    "    #plt.plot([int(key)],[int(ky)],'o')\n",
    "    #percentage(awayteam[key], 1.5, 3.5)\n",
    "    p,v = percentage(player, 0, 7.5)\n",
    "    plt.plot(v,p,label = player['name'], lw = 3)\n",
    "    \n",
    "    plt.legend()\n",
    "    plt.tight_layout()"
   ]
  },
  {
   "cell_type": "code",
   "execution_count": null,
   "metadata": {},
   "outputs": [],
   "source": [
    "print(hometeam.keys())"
   ]
  },
  {
   "cell_type": "code",
   "execution_count": null,
   "metadata": {
    "collapsed": true
   },
   "outputs": [],
   "source": [
    "player = hometeam['3234']"
   ]
  },
  {
   "cell_type": "code",
   "execution_count": null,
   "metadata": {},
   "outputs": [],
   "source": [
    "v = player['v']\n",
    "print(np.mean(v[v>0]))\n",
    "print(player['name'])"
   ]
  },
  {
   "cell_type": "code",
   "execution_count": null,
   "metadata": {},
   "outputs": [],
   "source": [
    "player.keys()"
   ]
  },
  {
   "cell_type": "code",
   "execution_count": null,
   "metadata": {
    "collapsed": true
   },
   "outputs": [],
   "source": [
    "#len(player['powerTime'][player['powerTime']>0])"
   ]
  },
  {
   "cell_type": "code",
   "execution_count": null,
   "metadata": {
    "collapsed": true
   },
   "outputs": [],
   "source": [
    "#plt.figure()\n",
    "#index = player['power'] >= 0.0\n",
    "##plt.plot(player['powerTime'][index],player['power'][index],'o')\n",
    "#plt.hist(player['power'][index],bins=50,range=(0,10))"
   ]
  },
  {
   "cell_type": "markdown",
   "metadata": {},
   "source": [
    "[Game 1 - Celtics - Wizards](http://www.espn.com/nba/game?gameId=400952526)"
   ]
  },
  {
   "cell_type": "code",
   "execution_count": null,
   "metadata": {},
   "outputs": [],
   "source": [
    "import os\n",
    "\n",
    "datadir = 'Sportvu_Data'\n",
    "\n",
    "ngames = 7\n",
    "\n",
    "#game1_q1.XML\n",
    "\n",
    "games = []\n",
    "for g in range(1,ngames+1):\n",
    "    infilenames = []\n",
    "    for q in ['q1','q2','q3','q4','OT']:\n",
    "        infilename = \"%s/game%d_%s.XML\" % (datadir,g,q)\n",
    "        #print(infilename)\n",
    "        if os.path.isfile(infilename):\n",
    "            infilenames.append(infilename)\n",
    "        \n",
    "    #players,homeplayers,awayplayers,hometeam,awayteam,ball, homeScore, awayScore, sc = r.get_player_data(infilename)\n",
    "    #r.playerNames(hometeam,awayteam)  \n",
    "    print(infilenames)\n",
    "    game = r.get_player_data(infilenames)\n",
    "    #r.playerNames(game[3],game[4])\n",
    "    games.append(game)\n",
    "\n",
    "        \n"
   ]
  },
  {
   "cell_type": "code",
   "execution_count": null,
   "metadata": {
    "collapsed": true
   },
   "outputs": [],
   "source": [
    "h = games[0][3]\n",
    "a = games[0][4]"
   ]
  },
  {
   "cell_type": "code",
   "execution_count": null,
   "metadata": {
    "collapsed": true
   },
   "outputs": [],
   "source": [
    "p = h['457605']"
   ]
  },
  {
   "cell_type": "code",
   "execution_count": null,
   "metadata": {},
   "outputs": [],
   "source": [
    "plt.figure()\n",
    "plt.plot(p['veloTime'],p['v'])"
   ]
  },
  {
   "cell_type": "code",
   "execution_count": null,
   "metadata": {
    "collapsed": true
   },
   "outputs": [],
   "source": [
    "def calc_accel(player):\n",
    "    # Calc the accelerations\n",
    "    v = player['v'].copy()\n",
    "    t = player['veloTime'].copy()\n",
    "\n",
    "    index = v>=0\n",
    "    v = v[index]\n",
    "    t = t[index]\n",
    "    \n",
    "    a = np.zeros(len(v))\n",
    "    \n",
    "    if len(a)>3:\n",
    "\n",
    "        # Do all the *middle* ones\n",
    "        a[1:-1] = (v[2:] - v[0:-2])/(t[2:] - t[0:-2])\n",
    "\n",
    "        # Do the first point\n",
    "        a[0] = (v[1] - v[0])/(t[1] - t[0])\n",
    "\n",
    "        # Do the last point\n",
    "        a[-1] = (v[-1] - v[-2])/(t[-1] - t[-2]) \n",
    "\n",
    "        a = np.abs(a)\n",
    "\n",
    "        index = a<10\n",
    "        t = t[index]\n",
    "        a = a[index]\n",
    "\n",
    "        player[\"acc\"] = a\n",
    "        player[\"accTime\"] = t\n",
    "\n",
    "\n",
    "    else:\n",
    "        player[\"acc\"] = np.array([-1,-1,-1])\n",
    "        player[\"accTime\"] = np.array([-1,-1,-1])\n",
    "\n",
    "        \n",
    "    "
   ]
  },
  {
   "cell_type": "code",
   "execution_count": null,
   "metadata": {
    "scrolled": false
   },
   "outputs": [],
   "source": [
    "plt.figure(figsize=(8,12))\n",
    "plt.xlabel(\"Velocity(m/s)\", fontsize = 14)\n",
    "plt.ylabel(\"Percentage of Time Spent over Given Velocity\", fontsize = 14)\n",
    "\n",
    "#plt.ylim(0, .7)\n",
    "#for i,key in enumerate(awayteam.keys()):\n",
    "for i,key in enumerate(a.keys()):\n",
    "\n",
    "    print(i,key)\n",
    "    \n",
    "\n",
    "    plt.subplot(3,1,1+int(i/5))\n",
    "    player = a[key]\n",
    "    #plt.plot([int(key)],[int(ky)],'o')\n",
    "    #percentage(awayteam[key], 1.5, 3.5)\n",
    "    p,v = percentage(player, 0.0, 9.5)\n",
    "    plt.plot(v,p,label = player['name'], lw = 3)\n",
    "    \n",
    "    \n",
    "    plt.ylim(0,1.2)\n",
    "    \n",
    "    plt.legend()\n",
    "    plt.tight_layout()\n",
    "\n",
    "    \n",
    "plt.figure(figsize=(8,12))\n",
    "plt.xlabel(\"Acceleration(m/s)\", fontsize = 14)\n",
    "plt.ylabel(\"Percentage of Time Spent over Given Acceleration\", fontsize = 14)\n",
    "\n",
    "#plt.ylim(0, .7)\n",
    "#for i,key in enumerate(awayteam.keys()):\n",
    "for i,key in enumerate(a.keys()):\n",
    "\n",
    "    print(i,key)\n",
    "    \n",
    "\n",
    "    plt.subplot(3,1,1+int(i/5))\n",
    "    player = a[key]\n",
    "\n",
    "    # Calculate the accelerations while we're here\n",
    "    calc_accel(player)\n",
    "    pa,at = percentage(player, 0.0, 6,numpoints=50)\n",
    "\n",
    "    plt.plot(at,pa,label = player['name'], lw = 3)\n",
    "    \n",
    "    \n",
    "    #plt.ylim(0,0.25)\n",
    "    \n",
    "    plt.legend()\n",
    "    plt.tight_layout()\n",
    "\n"
   ]
  },
  {
   "cell_type": "code",
   "execution_count": null,
   "metadata": {},
   "outputs": [],
   "source": [
    "p = h['457605']\n",
    "print(p.keys())\n",
    "print(p['name'])"
   ]
  },
  {
   "cell_type": "code",
   "execution_count": null,
   "metadata": {},
   "outputs": [],
   "source": [
    "dt = p['dt']\n",
    "v = p['v']\n",
    "print(sum(dt[dt>0])/60/2)"
   ]
  },
  {
   "cell_type": "code",
   "execution_count": null,
   "metadata": {},
   "outputs": [],
   "source": [
    "t = p['veloTime']\n",
    "print(len(v[v>=0]))\n",
    "\n",
    "plt.figure()\n",
    "#plt.plot(t/60)\n",
    "plt.plot(t/60,p['v'])"
   ]
  },
  {
   "cell_type": "code",
   "execution_count": null,
   "metadata": {},
   "outputs": [],
   "source": [
    "minutes = len(v[v>0])*0.04/60\n",
    "print(minutes)"
   ]
  },
  {
   "cell_type": "code",
   "execution_count": null,
   "metadata": {
    "collapsed": true
   },
   "outputs": [],
   "source": [
    "# Dates of games \n",
    "import datetime as dt\n",
    "\n",
    "game_dates = []\n",
    "\n",
    "game_dates.append(dt.datetime(2017, 4, 30))\n",
    "game_dates.append(dt.datetime(2017, 5, 2))\n",
    "game_dates.append(dt.datetime(2017, 5, 4))\n",
    "game_dates.append(dt.datetime(2017, 5, 7))\n",
    "game_dates.append(dt.datetime(2017, 5, 10))\n",
    "game_dates.append(dt.datetime(2017, 5, 12))\n",
    "game_dates.append(dt.datetime(2017, 5, 15))"
   ]
  },
  {
   "cell_type": "code",
   "execution_count": null,
   "metadata": {},
   "outputs": [],
   "source": [
    "days_off = game_dates[1] - game_dates[0]\n",
    "\n",
    "print(days_off.days)"
   ]
  },
  {
   "cell_type": "code",
   "execution_count": null,
   "metadata": {},
   "outputs": [],
   "source": [
    "len(games)\n",
    "player = games[0][4]['509456']\n",
    "\n",
    "x = player['x']\n",
    "t = player['gameTime']\n",
    "\n",
    "plt.figure()\n",
    "plt.plot(t,x)"
   ]
  },
  {
   "cell_type": "code",
   "execution_count": null,
   "metadata": {},
   "outputs": [],
   "source": [
    "player_stats = {}\n",
    "\n",
    "for day,game in enumerate(games):\n",
    "    \n",
    "    h = game[3]\n",
    "    a = game[4]\n",
    "    \n",
    "    print (\"----- \",day)\n",
    "    for side in [a,h]:\n",
    "        for i,key in enumerate(side.keys()):\n",
    "\n",
    "            print(i,key)\n",
    "            \n",
    "\n",
    "            player = side[key]\n",
    "            p,vp = percentage(player, 5.4, 5.4,numpoints=1)\n",
    "            \n",
    "            # Calculate the accelerations while we're here\n",
    "            calc_accel(player)\n",
    "\n",
    "            pa,acc = percentage(player, 2.5, 2.5,numpoints=1)\n",
    "\n",
    "\n",
    "            p = 100*p[0]\n",
    "            v = player['v']\n",
    "            \n",
    "            minutes = len(v[v>0])*0.04/60\n",
    "            \n",
    "            print(minutes)\n",
    "            \n",
    "            if minutes>25:\n",
    "                dkeys = player_stats.keys()\n",
    "                print(\"here: \",key)\n",
    "                if key not in dkeys:\n",
    "                    player_stats[key] = [[minutes], [p],[game_dates[day]]]\n",
    "\n",
    "                else:\n",
    "                    print(\"GOING IN: \",key)\n",
    "                    player_stats[key][0].append(minutes)\n",
    "                    player_stats[key][1].append(p)\n",
    "                    player_stats[key][2].append(game_dates[day])\n",
    "\n",
    "\n"
   ]
  },
  {
   "cell_type": "code",
   "execution_count": null,
   "metadata": {},
   "outputs": [],
   "source": [
    "plt.figure()\n",
    "for key in player_stats.keys():\n",
    "    player = player_stats[key]\n",
    "    plt.plot(player[0],player[1],'.')"
   ]
  },
  {
   "cell_type": "code",
   "execution_count": null,
   "metadata": {
    "collapsed": true
   },
   "outputs": [],
   "source": [
    "#player_stats"
   ]
  },
  {
   "cell_type": "code",
   "execution_count": null,
   "metadata": {
    "collapsed": true
   },
   "outputs": [],
   "source": [
    "data = np.loadtxt('Player_ID.csv',skiprows=1,delimiter=',',unpack=True,dtype=bytes)\n",
    "ids = data[0].astype(str)\n",
    "names = data[1].astype(str)\n",
    "\n",
    "def get_name(player_id,names=names,ids=ids):\n",
    "    \n",
    "    index = ids.tolist().index(player_id)\n",
    "    return names[index]\n"
   ]
  },
  {
   "cell_type": "code",
   "execution_count": null,
   "metadata": {
    "scrolled": false
   },
   "outputs": [],
   "source": [
    "plt.figure(figsize=(8,16))\n",
    "\n",
    "for i,key in enumerate(player_stats.keys()):\n",
    "    plt.subplot(9,3,i+1)\n",
    "    player = player_stats[key]\n",
    "    plt.plot(player[0],player[1],'.',label=get_name(key))\n",
    "    #plt.ylim(0.25,0.45)\n",
    "    plt.legend()\n",
    "plt.tight_layout()"
   ]
  },
  {
   "cell_type": "code",
   "execution_count": null,
   "metadata": {
    "scrolled": false
   },
   "outputs": [],
   "source": [
    "plt.figure(figsize=(8,18))\n",
    "\n",
    "day1 = dt.timedelta(1)\n",
    "\n",
    "for i,key in enumerate(player_stats.keys()):\n",
    "    #plt.figure(figsize=(8,3))\n",
    "    #plt.subplot(9,3,i+1)\n",
    "    plt.subplot(9,1,i+1)\n",
    "    player = player_stats[key]\n",
    "    plt.plot(player[2],player[1],'o',label=get_name(key))\n",
    "    #plt.ylim(0.25,0.48) # m/s to mph5)\n",
    "    plt.ylim(4,12) # m/s to mph5)\n",
    "\n",
    "    plt.xlim(game_dates[0]-day1,game_dates[-1]+day1)\n",
    "    plt.xticks(fontsize=8)\n",
    "    plt.gca().grid(axis='x')\n",
    "    plt.legend(fontsize=14)\n",
    "    plt.ylabel('% over')\n",
    "\n",
    "    if i>=8:\n",
    "        break\n",
    "plt.tight_layout()\n",
    "plt.savefig(\"players_over_series_12mph.png\")"
   ]
  },
  {
   "cell_type": "code",
   "execution_count": null,
   "metadata": {
    "collapsed": true
   },
   "outputs": [],
   "source": [
    "x = dt.timedelta(1)"
   ]
  },
  {
   "cell_type": "code",
   "execution_count": null,
   "metadata": {},
   "outputs": [],
   "source": [
    "x.days"
   ]
  },
  {
   "cell_type": "code",
   "execution_count": null,
   "metadata": {
    "collapsed": true
   },
   "outputs": [],
   "source": [
    "g = games[0][3]"
   ]
  },
  {
   "cell_type": "code",
   "execution_count": null,
   "metadata": {},
   "outputs": [],
   "source": [
    "print(g.keys())\n",
    "p=g['457605']\n",
    "print(p['name'])"
   ]
  },
  {
   "cell_type": "code",
   "execution_count": null,
   "metadata": {
    "collapsed": true
   },
   "outputs": [],
   "source": [
    "v = p['v']\n",
    "t = p['veloTime']\n",
    "\n",
    "index = v>=0\n",
    "v = v[index]\n",
    "t = t[index]"
   ]
  },
  {
   "cell_type": "code",
   "execution_count": null,
   "metadata": {
    "collapsed": true
   },
   "outputs": [],
   "source": [
    "a = np.zeros(len(v))\n",
    "\n",
    "# Do all the *middle* ones\n",
    "a[1:-1] = (v[2:] - v[0:-2])/(t[2:] - t[0:-2])\n",
    "\n",
    "# Do the first point\n",
    "a[0] = (v[1] - v[0])/(t[1] - t[0])\n",
    "\n",
    "# Do the last point\n",
    "a[-1] = (v[-1] - v[-2])/(t[-1] - t[-2])"
   ]
  },
  {
   "cell_type": "code",
   "execution_count": null,
   "metadata": {
    "collapsed": true
   },
   "outputs": [],
   "source": [
    "a\n",
    "a = np.abs(a)\n",
    "t = t[a<10]\n",
    "a = a[a<10]\n"
   ]
  },
  {
   "cell_type": "code",
   "execution_count": null,
   "metadata": {},
   "outputs": [],
   "source": [
    "plt.figure()\n",
    "plt.plot(t,a)"
   ]
  },
  {
   "cell_type": "code",
   "execution_count": null,
   "metadata": {
    "scrolled": false
   },
   "outputs": [],
   "source": [
    "player_stats = {}\n",
    "\n",
    "import seaborn as sns\n",
    "sns.set()\n",
    "\n",
    "#pid = '457605' #Isaiah Thomas\n",
    "pid = '509456' # John Wall\n",
    "\n",
    "plt.figure(figsize=(8,5))\n",
    "\n",
    "for day,game in enumerate(games):\n",
    "    \n",
    "    h = game[3]\n",
    "    a = game[4]\n",
    "    \n",
    "    for side in [a,h]:\n",
    "        if pid in side.keys():\n",
    "\n",
    "            player = side[pid]\n",
    "            p,vp = percentage(player, 0.0, 6.0,numpoints=100)\n",
    "            \n",
    "            avg_speed = np.sum(2.24*vp*p)/np.sum(p)\n",
    "\n",
    "            label = \"Game %d: Avg. speed: %0.2f mph\" % (day+1, avg_speed)\n",
    "            plt.plot(2.24*vp,100*p,label=label,linewidth=4,alpha=1.0)\n",
    "            \n",
    "\n",
    "            \n",
    "plt.xlabel('Speed (mph)',fontsize=18)\n",
    "plt.ylabel('Pct time above speed (%)',fontsize=18)\n",
    "\n",
    "plt.legend(fontsize=14)\n",
    "plt.tight_layout()\n",
    "\n",
    "#plt.savefig(\"it_series.png\")\n",
    "plt.savefig(\"jw_series.png\")"
   ]
  },
  {
   "cell_type": "code",
   "execution_count": null,
   "metadata": {},
   "outputs": [],
   "source": [
    "player_stats = {}\n",
    "\n",
    "import seaborn as sns\n",
    "sns.set()\n",
    "\n",
    "#pid = '457605' #Isaiah Thomas\n",
    "pids = ['509456','609256'] # John Wall and Otto Porter\n",
    "\n",
    "plt.figure(figsize=(8,5))\n",
    "\n",
    "for pid in pids:\n",
    "    \n",
    "    a = games[0][4]\n",
    "    \n",
    "    for side in [a]:\n",
    "        if pid in side.keys():\n",
    "\n",
    "            player = side[pid]\n",
    "            p,vp = percentage(player, 0.0, 6.0,numpoints=100)\n",
    "            \n",
    "            avg_speed = np.sum(2.24*vp*p)/np.sum(p)\n",
    "\n",
    "            name = get_name(pid)\n",
    "            label = \"%-15s Avg. speed: %0.2f mph\" % (name, avg_speed)\n",
    "            plt.plot(2.24*vp,100*p,label=label,linewidth=4,alpha=1.0)\n",
    "            \n",
    "\n",
    "            \n",
    "plt.xlabel('Speed (mph)',fontsize=18)\n",
    "plt.ylabel('Pct time above speed (%)',fontsize=18)\n",
    "\n",
    "plt.legend(fontsize=14)\n",
    "plt.tight_layout()\n",
    "\n",
    "#plt.savefig(\"it_series.png\")\n",
    "plt.savefig(\"wall_porter_game_1.png\")"
   ]
  },
  {
   "cell_type": "code",
   "execution_count": null,
   "metadata": {
    "scrolled": false
   },
   "outputs": [],
   "source": [
    "plt.figure(figsize=(8,5))\n",
    "\n",
    "team = games[0][3] # Game 1, Home\n",
    "#team = games[0][4] # Game 1, Away\n",
    "\n",
    "\n",
    "#plt.ylim(0, .7)\n",
    "#for i,key in enumerate(awayteam.keys()):\n",
    "for i,key in enumerate(team.keys()):\n",
    "\n",
    "    print(i,key)\n",
    "    \n",
    "    #plt.subplot(3,1,1+int(i/5))\n",
    "    player = team[key]\n",
    "    \n",
    "                \n",
    "    \n",
    "    p,vp = percentage(player, 0, 6.0, numpoints=100)\n",
    "\n",
    "    avg_speed = np.sum(2.24*vp*p)/np.sum(p)\n",
    "\n",
    "    label = \"%-18s Avg. speed: %0.2f mph\" % (player['name'], avg_speed)\n",
    "    plt.plot(2.24*vp,100*p,label=label,linewidth=4,alpha=1.0)\n",
    "\n",
    "\n",
    "    if i>=4:\n",
    "        break\n",
    "    \n",
    "plt.xlabel('Speed (mph)',fontsize=18)\n",
    "plt.ylabel('Pct time above speed (%)',fontsize=18)\n",
    "\n",
    "plt.legend(fontsize=14)\n",
    "plt.tight_layout()\n",
    "\n",
    "#plt.savefig(\"it_series.png\")\n",
    "plt.savefig(\"celts_starters_game_1.png\")\n",
    "#plt.savefig(\"wiz_starters_game_1.png\")"
   ]
  },
  {
   "cell_type": "code",
   "execution_count": null,
   "metadata": {
    "collapsed": true
   },
   "outputs": [],
   "source": [
    "from matplotlib.patches import Circle, Rectangle, Arc\n",
    "\n",
    "# Function to draw the basketball court lines\n",
    "def draw_court(ax=None, color=\"gray\", lw=1, zorder=0):\n",
    "    \n",
    "    if ax is None:\n",
    "        ax = plt.gca()\n",
    "\n",
    "    # Creates the out of bounds lines around the court\n",
    "    outer = Rectangle((0,-50), width=94, height=50, color=color,\n",
    "                      zorder=zorder, fill=False, lw=lw)\n",
    "\n",
    "    # The left and right basketball hoops\n",
    "    l_hoop = Circle((5.35,-25), radius=.75, lw=lw, fill=False, \n",
    "                    color=color, zorder=zorder)\n",
    "    r_hoop = Circle((88.65,-25), radius=.75, lw=lw, fill=False,\n",
    "                    color=color, zorder=zorder)\n",
    "    \n",
    "    # Left and right backboards\n",
    "    l_backboard = Rectangle((4,-28), 0, 6, lw=lw, color=color,\n",
    "                            zorder=zorder)\n",
    "    r_backboard = Rectangle((90, -28), 0, 6, lw=lw,color=color,\n",
    "                            zorder=zorder)\n",
    "\n",
    "    # Left and right paint areas\n",
    "    l_outer_box = Rectangle((0, -33), 19, 16, lw=lw, fill=False,\n",
    "                            color=color, zorder=zorder)    \n",
    "    l_inner_box = Rectangle((0, -31), 19, 12, lw=lw, fill=False,\n",
    "                            color=color, zorder=zorder)\n",
    "    r_outer_box = Rectangle((75, -33), 19, 16, lw=lw, fill=False,\n",
    "                            color=color, zorder=zorder)\n",
    "\n",
    "    r_inner_box = Rectangle((75, -31), 19, 12, lw=lw, fill=False,\n",
    "                            color=color, zorder=zorder)\n",
    "\n",
    "    # Left and right free throw circles\n",
    "    l_free_throw = Circle((19,-25), radius=6, lw=lw, fill=False,\n",
    "                          color=color, zorder=zorder)\n",
    "    r_free_throw = Circle((75, -25), radius=6, lw=lw, fill=False,\n",
    "                          color=color, zorder=zorder)\n",
    "\n",
    "    # Left and right corner 3-PT lines\n",
    "    # a represents the top lines\n",
    "    # b represents the bottom lines\n",
    "    l_corner_a = Rectangle((0,-3), 14, 0, lw=lw, color=color,\n",
    "                           zorder=zorder)\n",
    "    l_corner_b = Rectangle((0,-47), 14, 0, lw=lw, color=color,\n",
    "                           zorder=zorder)\n",
    "    r_corner_a = Rectangle((80, -3), 14, 0, lw=lw, color=color,\n",
    "                           zorder=zorder)\n",
    "    r_corner_b = Rectangle((80, -47), 14, 0, lw=lw, color=color,\n",
    "                           zorder=zorder)\n",
    "    \n",
    "    # Left and right 3-PT line arcs\n",
    "    l_arc = Arc((5,-25), 47.5, 47.5, theta1=292, theta2=68, lw=lw,\n",
    "                color=color, zorder=zorder)\n",
    "    r_arc = Arc((89, -25), 47.5, 47.5, theta1=112, theta2=248, lw=lw,\n",
    "                color=color, zorder=zorder)\n",
    "\n",
    "    # half_court\n",
    "    # ax.axvline(470)\n",
    "    half_court = Rectangle((47,-50), 0, 50, lw=lw, color=color,\n",
    "                           zorder=zorder)\n",
    "\n",
    "    hc_big_circle = Circle((47, -25), radius=6, lw=lw, fill=False,\n",
    "                           color=color, zorder=zorder)\n",
    "    hc_sm_circle = Circle((47, -25), radius=2, lw=lw, fill=False,\n",
    "                          color=color, zorder=zorder)\n",
    "\n",
    "    court_elements = [l_hoop, l_backboard, l_outer_box, outer,\n",
    "                      l_inner_box, l_free_throw, l_corner_a,\n",
    "                      l_corner_b, l_arc, r_hoop, r_backboard, \n",
    "                      r_outer_box, r_inner_box, r_free_throw,\n",
    "                      r_corner_a, r_corner_b, r_arc, half_court,\n",
    "                      hc_big_circle, hc_sm_circle]\n",
    "\n",
    "    # Add the court elements onto the axes\n",
    "    for element in court_elements:\n",
    "        ax.add_patch(element)\n",
    "\n",
    "    return ax"
   ]
  },
  {
   "cell_type": "code",
   "execution_count": null,
   "metadata": {},
   "outputs": [],
   "source": [
    "plt.figure(figsize=(8,5))\n",
    "\n",
    "#team = games[0][0] # Game 1, players\n",
    "team = games[0][4] # Game 1, Away\n",
    "\n",
    "draw_court(ax=plt.gca())\n",
    "\n",
    "\n",
    "#plt.ylim(0, .7)\n",
    "#for i,key in enumerate(awayteam.keys()):\n",
    "for i,player in enumerate(players[1:6]):\n",
    "\n",
    "    print(i,key)\n",
    "    \n",
    "    #plt.subplot(3,1,1+int(i/5))\n",
    "    #player = team[key]\n",
    "    \n",
    "    x = player['x']\n",
    "    y = player['y']\n",
    "    \n",
    "    #label = \"%-18s Avg. speed: %0.2f mph\" % (player['name'], avg_speed)\n",
    "    #plt.plot(x,-y,linewidth=0.2,alpha=0.5,color='green')\n",
    "    plt.plot(x,-y,linewidth=0.2,alpha=0.5,color='red')\n",
    "\n",
    "\n",
    "\n",
    "    if i>=4:\n",
    "        break\n",
    "    \n",
    "#plt.xlabel('Speed (mph)',fontsize=18)\n",
    "#plt.ylabel('Pct time above speed (%)',fontsize=18)\n",
    "\n",
    "\n",
    "draw_court(ax=plt.gca(),color='k')\n",
    "\n",
    "plt.xlim(0, 94)\n",
    "plt.ylim(-50, 0)\n",
    "\n",
    "\n",
    "plt.gca().get_xaxis().set_visible(False)\n",
    "plt.gca().get_yaxis().set_visible(False)\n",
    "\n",
    "\n",
    "#plt.legend(fontsize=14)\n",
    "plt.tight_layout()\n",
    "\n",
    "#plt.savefig(\"it_series.png\")\n",
    "#plt.savefig(\"celts_positions_game_1.png\")\n",
    "plt.savefig(\"wiz_positions_game_1.png\")"
   ]
  },
  {
   "cell_type": "code",
   "execution_count": null,
   "metadata": {
    "scrolled": false
   },
   "outputs": [],
   "source": [
    "plt.figure(figsize=(8,5))\n",
    "\n",
    "#team = games[0][3] # Game 1, Home\n",
    "#team = games[0][4] # Game 1, Away\n",
    "colors = ['green','red']\n",
    "\n",
    "celts = [3, 3, 4, 4, 3, 4, 3]\n",
    "wiz = [4, 4, 3, 3, 4, 3, 4]\n",
    "\n",
    "#plt.ylim(0, .7)\n",
    "#for i,key in enumerate(awayteam.keys()):\n",
    "for i,game in enumerate(games):\n",
    "    \n",
    "\n",
    "    #for j,team in enumerate([game[3],game[4]]): # Home\n",
    "    if 1:\n",
    "        \n",
    "        #team = game[celts[i]]\n",
    "        team = game[wiz[i]]\n",
    "        \n",
    "        total = 0\n",
    "\n",
    "        for key in team.keys():\n",
    "            player = team[key]\n",
    "\n",
    "            v = player['v']\n",
    "            t = player['veloTime']\n",
    "\n",
    "            mass = player['mass']\n",
    "\n",
    "            power = 0.5*mass*v*v*0.04\n",
    "            seconds = len(v[v>0])*0.04\n",
    "\n",
    "            energy = np.sum(power*seconds)\n",
    "            total += energy\n",
    "\n",
    "            #print (i,energy)\n",
    "            #plt.plot([i],[energy],'ro',alpha=1.0)\n",
    "        #plt.plot([i+1],[total],'go',alpha=1.0,markersize=20)\n",
    "        plt.plot([i+1],[total],'ro',alpha=1.0,markersize=20)\n",
    "\n",
    "\n",
    "        print(i,total)\n",
    "    \n",
    "plt.xlabel('Game # in series',fontsize=18)\n",
    "plt.ylabel('Sum of KE in 0.04 sec frames',fontsize=18)\n",
    "\n",
    "\n",
    "plt.ylim(0.7e10, 1.4e10)\n",
    "#plt.legend(fontsize=14)\n",
    "\n",
    "\n",
    "plt.tight_layout()\n",
    "\n",
    "#plt.savefig(\"it_series.png\")\n",
    "#plt.savefig(\"celts_ke.png\")\n",
    "plt.savefig(\"wiz_ke.png\")"
   ]
  },
  {
   "cell_type": "code",
   "execution_count": null,
   "metadata": {
    "collapsed": true
   },
   "outputs": [],
   "source": []
  }
 ],
 "metadata": {
  "kernelspec": {
   "display_name": "Python 3",
   "language": "python",
   "name": "python3"
  },
  "language_info": {
   "codemirror_mode": {
    "name": "ipython",
    "version": 3
   },
   "file_extension": ".py",
   "mimetype": "text/x-python",
   "name": "python",
   "nbconvert_exporter": "python",
   "pygments_lexer": "ipython3",
   "version": "3.6.2"
  }
 },
 "nbformat": 4,
 "nbformat_minor": 2
}
