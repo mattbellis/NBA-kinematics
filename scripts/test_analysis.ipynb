{
 "cells": [
  {
   "cell_type": "markdown",
   "metadata": {},
   "source": [
    "[Box score](http://www.espn.com/nba/boxscore?gameId=400900450)"
   ]
  },
  {
   "cell_type": "code",
   "execution_count": null,
   "metadata": {
    "collapsed": true
   },
   "outputs": [],
   "source": [
    "import numpy as np\n",
    "import matplotlib.pylab as plt\n",
    "import sys\n",
    "%matplotlib notebook \n",
    "\n",
    "sys.path.insert(0, '../sportvu/')\n",
    "import reading as r"
   ]
  },
  {
   "cell_type": "code",
   "execution_count": null,
   "metadata": {},
   "outputs": [],
   "source": [
    "infilename = ['Sportvu_Data/quarter1.XML',\n",
    "             'Sportvu_Data/quarter2.XML',\n",
    "             'Sportvu_Data/quarter3.XML',\n",
    "             'Sportvu_Data/quarter4.XML']\n",
    "\n",
    "#infilename = ['Sportvu_Data/quarter1.XML']\n",
    "\n",
    "\n",
    "#infilename = ['quarter1.XML', 'quarter2.XML', 'quarter3.XML', 'quarter4.XML']\n",
    "\n",
    "players,homeplayers,awayplayers,hometeam,awayteam,ball, homeScore, awayScore, sc = r.get_player_data(infilename)\n",
    "r.playerNames(hometeam,awayteam)"
   ]
  },
  {
   "cell_type": "code",
   "execution_count": null,
   "metadata": {
    "collapsed": true
   },
   "outputs": [],
   "source": [
    "def percentage(player, lowerLimit, upperLimit,numpoints=50,mykey='v'):\n",
    "    \n",
    "    velocities = np.array(np.linspace(lowerLimit, upperLimit, numpoints))\n",
    "\n",
    "    percentages = np.zeros(numpoints)\n",
    "    count = 0.0\n",
    "\n",
    "    v = player[mykey]\n",
    "    \n",
    "    npoints = len(v[v>=0])\n",
    "    \n",
    "    for k in range(0, len(velocities)):\n",
    "        percentages[k] = len(v[v>velocities[k]])\n",
    "\n",
    "    return percentages/npoints,velocities"
   ]
  },
  {
   "cell_type": "code",
   "execution_count": null,
   "metadata": {},
   "outputs": [],
   "source": [
    "p,v = percentage(hometeam['3234'],1.5, 2.5,numpoints=10)\n",
    "\n",
    "plt.figure()\n",
    "plt.plot(v,p)\n",
    "\n",
    "print(p,v)"
   ]
  },
  {
   "cell_type": "code",
   "execution_count": null,
   "metadata": {},
   "outputs": [],
   "source": [
    "#percentage(awayteam,3,5)\n",
    "hometeam.keys()"
   ]
  },
  {
   "cell_type": "code",
   "execution_count": null,
   "metadata": {},
   "outputs": [],
   "source": [
    "print(homeScore)"
   ]
  },
  {
   "cell_type": "code",
   "execution_count": null,
   "metadata": {
    "scrolled": false
   },
   "outputs": [],
   "source": [
    "plt.figure(figsize=(8,12))\n",
    "plt.xlabel(\"Velocity(m/s)\", fontsize = 14)\n",
    "plt.ylabel(\"Percentage of Time Spent over Given Velocity\", fontsize = 14)\n",
    "\n",
    "#plt.ylim(0, .7)\n",
    "#for i,key in enumerate(awayteam.keys()):\n",
    "for i,key in enumerate(hometeam.keys()):\n",
    "\n",
    "    print(i,key)\n",
    "    \n",
    "    plt.subplot(3,1,1+int(i/5))\n",
    "    player = hometeam[key]\n",
    "    #plt.plot([int(key)],[int(ky)],'o')\n",
    "    #percentage(awayteam[key], 1.5, 3.5)\n",
    "    p,v = percentage(player, 0, 3.5)\n",
    "    plt.plot(v,p,label = player['name'], lw = 3)\n",
    "    \n",
    "    plt.legend()\n",
    "    plt.tight_layout()"
   ]
  },
  {
   "cell_type": "code",
   "execution_count": null,
   "metadata": {},
   "outputs": [],
   "source": [
    "print(hometeam.keys())"
   ]
  },
  {
   "cell_type": "code",
   "execution_count": null,
   "metadata": {
    "collapsed": true
   },
   "outputs": [],
   "source": [
    "player = hometeam['3234']"
   ]
  },
  {
   "cell_type": "code",
   "execution_count": null,
   "metadata": {},
   "outputs": [],
   "source": [
    "player.keys()"
   ]
  },
  {
   "cell_type": "code",
   "execution_count": null,
   "metadata": {},
   "outputs": [],
   "source": [
    "plt.figure()\n",
    "index = player['power'] >= 0.0\n",
    "plt.plot(player['powerTime'][index],player['power'][index],'o')"
   ]
  },
  {
   "cell_type": "markdown",
   "metadata": {},
   "source": [
    "[Game 1 - Celtics - Wizards](http://www.espn.com/nba/game?gameId=400952526)"
   ]
  },
  {
   "cell_type": "code",
   "execution_count": null,
   "metadata": {},
   "outputs": [],
   "source": [
    "import os\n",
    "\n",
    "datadir = 'Sportvu_Data'\n",
    "\n",
    "ngames = 7\n",
    "\n",
    "#game1_q1.XML\n",
    "\n",
    "games = []\n",
    "for g in range(1,ngames+1):\n",
    "    infilenames = []\n",
    "    for q in ['q1','q2','q3','q4','OT']:\n",
    "        infilename = \"%s/game%d_%s.XML\" % (datadir,g,q)\n",
    "        #print(infilename)\n",
    "        if os.path.isfile(infilename):\n",
    "            infilenames.append(infilename)\n",
    "        \n",
    "    #players,homeplayers,awayplayers,hometeam,awayteam,ball, homeScore, awayScore, sc = r.get_player_data(infilename)\n",
    "    #r.playerNames(hometeam,awayteam)  \n",
    "    print(infilenames)\n",
    "    game = r.get_player_data(infilenames)\n",
    "    r.playerNames(game[3],game[4])\n",
    "    games.append(game)\n",
    "\n",
    "        \n"
   ]
  },
  {
   "cell_type": "code",
   "execution_count": null,
   "metadata": {
    "collapsed": true
   },
   "outputs": [],
   "source": [
    "h = games[0][3]\n",
    "a = games[0][3]"
   ]
  },
  {
   "cell_type": "code",
   "execution_count": null,
   "metadata": {
    "collapsed": true
   },
   "outputs": [],
   "source": [
    "def calc_accel(player):\n",
    "    # Calc the accelerations\n",
    "    v = player['v'].copy()\n",
    "    t = player['veloTime'].copy()\n",
    "\n",
    "    index = v>=0\n",
    "    v = v[index]\n",
    "    t = t[index]\n",
    "    \n",
    "    a = np.zeros(len(v))\n",
    "    \n",
    "    if len(a)>3:\n",
    "\n",
    "        # Do all the *middle* ones\n",
    "        a[1:-1] = (v[2:] - v[0:-2])/(t[2:] - t[0:-2])\n",
    "\n",
    "        # Do the first point\n",
    "        a[0] = (v[1] - v[0])/(t[1] - t[0])\n",
    "\n",
    "        # Do the last point\n",
    "        a[-1] = (v[-1] - v[-2])/(t[-1] - t[-2]) \n",
    "\n",
    "        a = np.abs(a)\n",
    "\n",
    "        index = a<10\n",
    "        t = t[index]\n",
    "        a = a[index]\n",
    "\n",
    "        player[\"acc\"] = a\n",
    "        player[\"accTime\"] = t\n",
    "\n",
    "\n",
    "    else:\n",
    "        player[\"acc\"] = np.array([-1,-1,-1])\n",
    "        player[\"accTime\"] = np.array([-1,-1,-1])\n",
    "\n",
    "        \n",
    "    "
   ]
  },
  {
   "cell_type": "code",
   "execution_count": null,
   "metadata": {
    "scrolled": false
   },
   "outputs": [],
   "source": [
    "plt.figure(figsize=(8,12))\n",
    "plt.xlabel(\"Velocity(m/s)\", fontsize = 14)\n",
    "plt.ylabel(\"Percentage of Time Spent over Given Velocity\", fontsize = 14)\n",
    "\n",
    "#plt.ylim(0, .7)\n",
    "#for i,key in enumerate(awayteam.keys()):\n",
    "for i,key in enumerate(h.keys()):\n",
    "\n",
    "    print(i,key)\n",
    "    \n",
    "\n",
    "    plt.subplot(3,1,1+int(i/5))\n",
    "    player = h[key]\n",
    "    #plt.plot([int(key)],[int(ky)],'o')\n",
    "    #percentage(awayteam[key], 1.5, 3.5)\n",
    "    p,v = percentage(player, 1.5, 3.5)\n",
    "    plt.plot(v,p,label = player['name'], lw = 3)\n",
    "    \n",
    "    \n",
    "    plt.ylim(0,0.25)\n",
    "    \n",
    "    plt.legend()\n",
    "    plt.tight_layout()\n",
    "\n",
    "    \n",
    "plt.figure(figsize=(8,12))\n",
    "plt.xlabel(\"Acceleration(m/s)\", fontsize = 14)\n",
    "plt.ylabel(\"Percentage of Time Spent over Given Acceleration\", fontsize = 14)\n",
    "\n",
    "#plt.ylim(0, .7)\n",
    "#for i,key in enumerate(awayteam.keys()):\n",
    "for i,key in enumerate(h.keys()):\n",
    "\n",
    "    print(i,key)\n",
    "    \n",
    "\n",
    "    plt.subplot(3,1,1+int(i/5))\n",
    "    player = h[key]\n",
    "\n",
    "    # Calculate the accelerations while we're here\n",
    "    calc_accel(player)\n",
    "    pa,a = percentage(player, 0.0, 2,numpoints=50)\n",
    "\n",
    "    plt.plot(a,pa,label = player['name'], lw = 3)\n",
    "    \n",
    "    \n",
    "    #plt.ylim(0,0.25)\n",
    "    \n",
    "    plt.legend()\n",
    "    plt.tight_layout()\n",
    "\n"
   ]
  },
  {
   "cell_type": "code",
   "execution_count": null,
   "metadata": {},
   "outputs": [],
   "source": [
    "p = a['457605']\n",
    "print(p.keys())"
   ]
  },
  {
   "cell_type": "code",
   "execution_count": null,
   "metadata": {
    "collapsed": true
   },
   "outputs": [],
   "source": [
    "t = p['veloTime']"
   ]
  },
  {
   "cell_type": "code",
   "execution_count": null,
   "metadata": {},
   "outputs": [],
   "source": [
    "minutes = len(t[t>0])*0.04/60\n",
    "print(minutes)"
   ]
  },
  {
   "cell_type": "code",
   "execution_count": null,
   "metadata": {
    "collapsed": true
   },
   "outputs": [],
   "source": [
    "# Dates of games \n",
    "import datetime as dt\n",
    "\n",
    "game_dates = []\n",
    "\n",
    "game_dates.append(dt.datetime(2017, 4, 30))\n",
    "game_dates.append(dt.datetime(2017, 5, 2))\n",
    "game_dates.append(dt.datetime(2017, 5, 4))\n",
    "game_dates.append(dt.datetime(2017, 5, 7))\n",
    "game_dates.append(dt.datetime(2017, 5, 10))\n",
    "game_dates.append(dt.datetime(2017, 5, 12))\n",
    "game_dates.append(dt.datetime(2017, 5, 15))"
   ]
  },
  {
   "cell_type": "code",
   "execution_count": null,
   "metadata": {},
   "outputs": [],
   "source": [
    "player_stats = {}\n",
    "\n",
    "for day,game in enumerate(games):\n",
    "    \n",
    "    h = game[3]\n",
    "    a = game[4]\n",
    "    \n",
    "    for side in [a,h]:\n",
    "        for i,key in enumerate(side.keys()):\n",
    "\n",
    "            #print(i,key)\n",
    "            \n",
    "\n",
    "            player = side[key]\n",
    "            p,v = percentage(player, 0.2, 0.2,numpoints=1)\n",
    "            \n",
    "            # Calculate the accelerations while we're here\n",
    "            calc_accel(player)\n",
    "\n",
    "            pa,a = percentage(player, 0.2, 0.2,numpoints=1)\n",
    "\n",
    "\n",
    "            p = p[0]\n",
    "            t = player['veloTime']\n",
    "            minutes = len(t[t>0])*0.04/60\n",
    "            \n",
    "            if minutes>25:\n",
    "                dkeys = player_stats.keys()\n",
    "\n",
    "                if key not in dkeys:\n",
    "                    player_stats[key] = [[minutes], [p],[game_dates[day]]]\n",
    "\n",
    "                else:\n",
    "                    player_stats[key][0].append(minutes)\n",
    "                    player_stats[key][1].append(p)\n",
    "                    player_stats[key][2].append(game_dates[day])\n",
    "\n",
    "\n"
   ]
  },
  {
   "cell_type": "code",
   "execution_count": null,
   "metadata": {},
   "outputs": [],
   "source": [
    "plt.figure()\n",
    "for key in player_stats.keys():\n",
    "    player = player_stats[key]\n",
    "    plt.plot(player[0],player[1],'.')"
   ]
  },
  {
   "cell_type": "code",
   "execution_count": null,
   "metadata": {
    "collapsed": true
   },
   "outputs": [],
   "source": [
    "data = np.loadtxt('Player_ID.csv',skiprows=1,delimiter=',',unpack=True,dtype=bytes)\n",
    "ids = data[0].astype(str)\n",
    "names = data[1].astype(str)\n",
    "\n",
    "def get_name(player_id,names=names,ids=ids):\n",
    "    \n",
    "    index = ids.tolist().index(player_id)\n",
    "    return names[index]\n"
   ]
  },
  {
   "cell_type": "code",
   "execution_count": null,
   "metadata": {
    "scrolled": false
   },
   "outputs": [],
   "source": [
    "plt.figure(figsize=(8,16))\n",
    "\n",
    "for i,key in enumerate(player_stats.keys()):\n",
    "    plt.subplot(9,3,i+1)\n",
    "    player = player_stats[key]\n",
    "    plt.plot(player[0],player[1],'.',label=get_name(key))\n",
    "    #plt.ylim(0,0.80)\n",
    "    plt.legend()\n",
    "plt.tight_layout()"
   ]
  },
  {
   "cell_type": "code",
   "execution_count": null,
   "metadata": {
    "scrolled": false
   },
   "outputs": [],
   "source": [
    "plt.figure(figsize=(8,50))\n",
    "\n",
    "day1 = dt.timedelta(1)\n",
    "\n",
    "for i,key in enumerate(player_stats.keys()):\n",
    "    #plt.figure(figsize=(8,3))\n",
    "    #plt.subplot(9,3,i+1)\n",
    "    plt.subplot(27,1,i+1)\n",
    "    player = player_stats[key]\n",
    "    plt.plot(player[2],player[1],'o',label=get_name(key))\n",
    "    #plt.ylim(0,0.05)\n",
    "    plt.xlim(game_dates[0]-day1,game_dates[-1]+day1)\n",
    "    plt.xticks(fontsize=8)\n",
    "    plt.gca().grid(axis='x')\n",
    "    plt.legend()\n",
    "plt.tight_layout()"
   ]
  },
  {
   "cell_type": "code",
   "execution_count": null,
   "metadata": {
    "collapsed": true
   },
   "outputs": [],
   "source": [
    "x = dt.timedelta(1)"
   ]
  },
  {
   "cell_type": "code",
   "execution_count": null,
   "metadata": {
    "collapsed": true
   },
   "outputs": [],
   "source": [
    "x.days"
   ]
  },
  {
   "cell_type": "code",
   "execution_count": null,
   "metadata": {
    "collapsed": true
   },
   "outputs": [],
   "source": [
    "? plt.xlabel"
   ]
  },
  {
   "cell_type": "code",
   "execution_count": null,
   "metadata": {
    "collapsed": true
   },
   "outputs": [],
   "source": [
    "g = games[0][3]"
   ]
  },
  {
   "cell_type": "code",
   "execution_count": null,
   "metadata": {},
   "outputs": [],
   "source": [
    "print(g.keys())\n",
    "p=g['457605']\n",
    "print(p['name'])"
   ]
  },
  {
   "cell_type": "code",
   "execution_count": null,
   "metadata": {},
   "outputs": [],
   "source": [
    "v = p['v']\n",
    "t = p['veloTime']\n",
    "\n",
    "index = v>=0\n",
    "v = v[index]\n",
    "t = t[index]"
   ]
  },
  {
   "cell_type": "code",
   "execution_count": null,
   "metadata": {},
   "outputs": [],
   "source": [
    "a = np.zeros(len(v))\n",
    "\n",
    "# Do all the *middle* ones\n",
    "a[1:-1] = (v[2:] - v[0:-2])/(t[2:] - t[0:-2])\n",
    "\n",
    "# Do the first point\n",
    "a[0] = (v[1] - v[0])/(t[1] - t[0])\n",
    "\n",
    "# Do the last point\n",
    "a[-1] = (v[-1] - v[-2])/(t[-1] - t[-2])"
   ]
  },
  {
   "cell_type": "code",
   "execution_count": null,
   "metadata": {},
   "outputs": [],
   "source": [
    "a\n",
    "a = np.abs(a)\n",
    "t = t[a<10]\n",
    "a = a[a<10]\n"
   ]
  },
  {
   "cell_type": "code",
   "execution_count": null,
   "metadata": {},
   "outputs": [],
   "source": [
    "plt.figure()\n",
    "plt.plot(t,a)"
   ]
  },
  {
   "cell_type": "code",
   "execution_count": null,
   "metadata": {
    "collapsed": true
   },
   "outputs": [],
   "source": []
  }
 ],
 "metadata": {
  "kernelspec": {
   "display_name": "Python 3",
   "language": "python",
   "name": "python3"
  },
  "language_info": {
   "codemirror_mode": {
    "name": "ipython",
    "version": 3
   },
   "file_extension": ".py",
   "mimetype": "text/x-python",
   "name": "python",
   "nbconvert_exporter": "python",
   "pygments_lexer": "ipython3",
   "version": "3.6.2"
  }
 },
 "nbformat": 4,
 "nbformat_minor": 2
}
