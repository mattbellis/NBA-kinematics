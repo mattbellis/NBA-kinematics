{
 "cells": [
  {
   "cell_type": "code",
   "execution_count": 1,
   "metadata": {},
   "outputs": [],
   "source": [
    "import spencer_sportvu_tools as svu\n",
    "# %run functions.py\n",
    "import matplotlib.pyplot as plt\n",
    "%matplotlib notebook"
   ]
  },
  {
   "cell_type": "code",
   "execution_count": 2,
   "metadata": {
    "collapsed": true
   },
   "outputs": [],
   "source": [
    "# mavs_game = ['quarter1.XML', 'quarter2.XML', 'quarter3.XML', 'quarter4.XML']\n",
    "game1 = ['game1_q1.XML','game1_q2.XML','game1_q3.XML','game1_q4.XML']\n",
    "game2 = ['game2_q1.XML','game2_q2.XML','game2_q3.XML','game2_q4.XML']\n",
    "game3 = ['game3_q1.XML','game3_q2.XML','game3_q3.XML','game3_q4.XML']\n",
    "game4 = ['game4_q1.XML','game4_q2.XML','game4_q3.XML','game4_q4.XML']\n",
    "game5 = ['game5_q1.XML','game5_q2.XML','game5_q3.XML','game5_q4.XML']\n",
    "game6 = ['game6_q1.XML','game6_q2.XML','game6_q3.XML','game6_q4.XML']\n",
    "game7 = ['game7_q1.XML','game7_q2.XML','game7_q3.XML','game7_q4.XML']"
   ]
  },
  {
   "cell_type": "code",
   "execution_count": 4,
   "metadata": {},
   "outputs": [
    {
     "ename": "FileNotFoundError",
     "evalue": "[Errno 2] No such file or directory: 'game1_q1.XML'",
     "output_type": "error",
     "traceback": [
      "\u001b[0;31m---------------------------------------------------------------------------\u001b[0m",
      "\u001b[0;31mFileNotFoundError\u001b[0m                         Traceback (most recent call last)",
      "\u001b[0;32m<ipython-input-4-d3918bb1eab6>\u001b[0m in \u001b[0;36m<module>\u001b[0;34m()\u001b[0m\n\u001b[0;32m----> 1\u001b[0;31m \u001b[0mdata1\u001b[0m \u001b[0;34m=\u001b[0m \u001b[0msvu\u001b[0m\u001b[0;34m.\u001b[0m\u001b[0mget_data\u001b[0m\u001b[0;34m(\u001b[0m\u001b[0mgame1\u001b[0m\u001b[0;34m)\u001b[0m\u001b[0;34m\u001b[0m\u001b[0m\n\u001b[0m\u001b[1;32m      2\u001b[0m \u001b[0mprint\u001b[0m\u001b[0;34m(\u001b[0m\u001b[0;34m\"loading...\"\u001b[0m\u001b[0;34m)\u001b[0m\u001b[0;34m\u001b[0m\u001b[0m\n\u001b[1;32m      3\u001b[0m \u001b[0;34m\u001b[0m\u001b[0m\n\u001b[1;32m      4\u001b[0m \u001b[0mdata2\u001b[0m \u001b[0;34m=\u001b[0m \u001b[0msvu\u001b[0m\u001b[0;34m.\u001b[0m\u001b[0mget_data\u001b[0m\u001b[0;34m(\u001b[0m\u001b[0mgame2\u001b[0m\u001b[0;34m)\u001b[0m\u001b[0;34m\u001b[0m\u001b[0m\n\u001b[1;32m      5\u001b[0m \u001b[0mprint\u001b[0m\u001b[0;34m(\u001b[0m\u001b[0;34m\"loading...\"\u001b[0m\u001b[0;34m)\u001b[0m\u001b[0;34m\u001b[0m\u001b[0m\n",
      "\u001b[0;32m~/NBA-kinematics/sandbox/spencer_sportvu_tools.py\u001b[0m in \u001b[0;36mget_data\u001b[0;34m(files)\u001b[0m\n\u001b[1;32m     24\u001b[0m \u001b[0;34m\u001b[0m\u001b[0m\n\u001b[1;32m     25\u001b[0m     \u001b[0;32mfor\u001b[0m \u001b[0mk\u001b[0m \u001b[0;32min\u001b[0m \u001b[0mrange\u001b[0m\u001b[0;34m(\u001b[0m\u001b[0;36m0\u001b[0m\u001b[0;34m,\u001b[0m \u001b[0mlen\u001b[0m\u001b[0;34m(\u001b[0m\u001b[0mfiles\u001b[0m\u001b[0;34m)\u001b[0m\u001b[0;34m)\u001b[0m\u001b[0;34m:\u001b[0m\u001b[0;34m\u001b[0m\u001b[0m\n\u001b[0;32m---> 26\u001b[0;31m         \u001b[0mtree\u001b[0m \u001b[0;34m=\u001b[0m \u001b[0mET\u001b[0m\u001b[0;34m.\u001b[0m\u001b[0mparse\u001b[0m\u001b[0;34m(\u001b[0m\u001b[0mfiles\u001b[0m\u001b[0;34m[\u001b[0m\u001b[0mk\u001b[0m\u001b[0;34m]\u001b[0m\u001b[0;34m)\u001b[0m\u001b[0;34m\u001b[0m\u001b[0m\n\u001b[0m\u001b[1;32m     27\u001b[0m         \u001b[0mroot\u001b[0m \u001b[0;34m=\u001b[0m \u001b[0mtree\u001b[0m\u001b[0;34m.\u001b[0m\u001b[0mgetroot\u001b[0m\u001b[0;34m(\u001b[0m\u001b[0;34m)\u001b[0m\u001b[0;34m\u001b[0m\u001b[0m\n\u001b[1;32m     28\u001b[0m         \u001b[0msequences\u001b[0m \u001b[0;34m=\u001b[0m \u001b[0mroot\u001b[0m\u001b[0;34m[\u001b[0m\u001b[0;36m0\u001b[0m\u001b[0;34m]\u001b[0m\u001b[0;34m[\u001b[0m\u001b[0;36m4\u001b[0m\u001b[0;34m]\u001b[0m\u001b[0;34m[\u001b[0m\u001b[0;36m0\u001b[0m\u001b[0;34m]\u001b[0m\u001b[0;34m[\u001b[0m\u001b[0;36m11\u001b[0m\u001b[0;34m]\u001b[0m\u001b[0;34m\u001b[0m\u001b[0m\n",
      "\u001b[0;32m/opt/anaconda3/lib/python3.6/xml/etree/ElementTree.py\u001b[0m in \u001b[0;36mparse\u001b[0;34m(source, parser)\u001b[0m\n\u001b[1;32m   1194\u001b[0m     \"\"\"\n\u001b[1;32m   1195\u001b[0m     \u001b[0mtree\u001b[0m \u001b[0;34m=\u001b[0m \u001b[0mElementTree\u001b[0m\u001b[0;34m(\u001b[0m\u001b[0;34m)\u001b[0m\u001b[0;34m\u001b[0m\u001b[0m\n\u001b[0;32m-> 1196\u001b[0;31m     \u001b[0mtree\u001b[0m\u001b[0;34m.\u001b[0m\u001b[0mparse\u001b[0m\u001b[0;34m(\u001b[0m\u001b[0msource\u001b[0m\u001b[0;34m,\u001b[0m \u001b[0mparser\u001b[0m\u001b[0;34m)\u001b[0m\u001b[0;34m\u001b[0m\u001b[0m\n\u001b[0m\u001b[1;32m   1197\u001b[0m     \u001b[0;32mreturn\u001b[0m \u001b[0mtree\u001b[0m\u001b[0;34m\u001b[0m\u001b[0m\n\u001b[1;32m   1198\u001b[0m \u001b[0;34m\u001b[0m\u001b[0m\n",
      "\u001b[0;32m/opt/anaconda3/lib/python3.6/xml/etree/ElementTree.py\u001b[0m in \u001b[0;36mparse\u001b[0;34m(self, source, parser)\u001b[0m\n\u001b[1;32m    584\u001b[0m         \u001b[0mclose_source\u001b[0m \u001b[0;34m=\u001b[0m \u001b[0;32mFalse\u001b[0m\u001b[0;34m\u001b[0m\u001b[0m\n\u001b[1;32m    585\u001b[0m         \u001b[0;32mif\u001b[0m \u001b[0;32mnot\u001b[0m \u001b[0mhasattr\u001b[0m\u001b[0;34m(\u001b[0m\u001b[0msource\u001b[0m\u001b[0;34m,\u001b[0m \u001b[0;34m\"read\"\u001b[0m\u001b[0;34m)\u001b[0m\u001b[0;34m:\u001b[0m\u001b[0;34m\u001b[0m\u001b[0m\n\u001b[0;32m--> 586\u001b[0;31m             \u001b[0msource\u001b[0m \u001b[0;34m=\u001b[0m \u001b[0mopen\u001b[0m\u001b[0;34m(\u001b[0m\u001b[0msource\u001b[0m\u001b[0;34m,\u001b[0m \u001b[0;34m\"rb\"\u001b[0m\u001b[0;34m)\u001b[0m\u001b[0;34m\u001b[0m\u001b[0m\n\u001b[0m\u001b[1;32m    587\u001b[0m             \u001b[0mclose_source\u001b[0m \u001b[0;34m=\u001b[0m \u001b[0;32mTrue\u001b[0m\u001b[0;34m\u001b[0m\u001b[0m\n\u001b[1;32m    588\u001b[0m         \u001b[0;32mtry\u001b[0m\u001b[0;34m:\u001b[0m\u001b[0;34m\u001b[0m\u001b[0m\n",
      "\u001b[0;31mFileNotFoundError\u001b[0m: [Errno 2] No such file or directory: 'game1_q1.XML'"
     ]
    }
   ],
   "source": [
    "data1 = svu.get_data(game1)\n",
    "print(\"loading...\")\n",
    "\n",
    "data2 = svu.get_data(game2)\n",
    "print(\"loading...\")\n",
    "\n",
    "data3 = svu.get_data(game3)\n",
    "print(\"loading...\")\n",
    "\n",
    "data4 = svu.get_data(game4)\n",
    "print(\"loading...\")\n",
    "\n",
    "data5 = svu.get_data(game5)\n",
    "print(\"loading...\")\n",
    "\n",
    "data6 = svu.get_data(game6)\n",
    "print(\"loading...\")\n",
    "\n",
    "data7 = svu.get_data(game7)\n",
    "print(\"DONE\")"
   ]
  },
  {
   "cell_type": "code",
   "execution_count": null,
   "metadata": {
    "collapsed": true
   },
   "outputs": [],
   "source": [
    "players1 = data1[0]\n",
    "hp1 = data1[1]\n",
    "ap1 = data1[2]\n",
    "ht1 = data1[3]\n",
    "at1 = data1[4]\n",
    "ball1 = data1[5]\n",
    "\n",
    "\n",
    "\n",
    "svu.getVelo(ht1,hp1)\n",
    "svu.get_distance(ht1,hp1)\n",
    "svu.get_mass(ht1)\n",
    "svu.get_power(ht1,hp1)\n",
    "\n",
    "\n",
    "\n",
    "svu.getVelo(at1, ap1)\n",
    "svu.get_distance(at1, ap1)\n",
    "svu.get_mass(at1)\n",
    "svu.get_power(at1,ap1)\n",
    "\n",
    "print \"loading...\"\n",
    "################################################\n",
    "\n",
    "players2 = data2[0]\n",
    "hp2 = data2[1]\n",
    "ap2 = data2[2]\n",
    "ht2 = data2[3]\n",
    "at2 = data2[4]\n",
    "ball2 = data2[5]\n",
    "\n",
    "\n",
    "###########\n",
    "\n",
    "svu.getVelo(ht2,hp2)\n",
    "svu.get_distance(ht2,hp2)\n",
    "svu.get_mass(ht2)\n",
    "svu.get_power(ht2,hp2)\n",
    "\n",
    "\n",
    "\n",
    "svu.getVelo(at2, ap2)\n",
    "svu.get_distance(at2, ap2)\n",
    "svu.get_mass(at2)\n",
    "svu.get_power(at2,ap2)\n",
    "\n",
    "print \"loading...\"\n",
    "####################################\n",
    "\n",
    "players3 = data3[0]\n",
    "hp3 = data3[1]\n",
    "ap3 = data3[2]\n",
    "ht3 = data3[3]\n",
    "at3 = data3[4]\n",
    "ball3 = data3[5]\n",
    "\n",
    "\n",
    "\n",
    "svu.getVelo(ht3,hp3)\n",
    "svu.get_distance(ht3,hp3)\n",
    "svu.get_mass(ht3)\n",
    "svu.get_power(ht3,hp3)\n",
    "\n",
    "players4 = data4[0]\n",
    "hp4 = data4[1]\n",
    "ap4 = data4[2]\n",
    "ht4 = data4[3]\n",
    "at4 = data4[4]\n",
    "ball4 = data4[5]\n",
    "\n",
    "print \"loading...\"\n",
    "\n",
    "\n",
    "svu.getVelo(ht4,hp4)\n",
    "svu.get_distance(ht4,hp4)\n",
    "svu.get_mass(ht4)\n",
    "svu.get_power(ht4,hp4)\n",
    "\n",
    "players5 = data5[0]\n",
    "hp5 = data5[1]\n",
    "ap5 = data5[2]\n",
    "ht5 = data5[3]\n",
    "at5 = data5[4]\n",
    "ball5 = data5[5]\n",
    "\n",
    "\n",
    "print \"loading...\"\n",
    "\n",
    "svu.getVelo(ht5,hp5)\n",
    "svu.get_distance(ht5,hp5)\n",
    "svu.get_mass(ht5)\n",
    "svu.get_power(ht5,hp5)\n",
    "\n",
    "players6 = data6[0]\n",
    "hp6 = data6[1]\n",
    "ap6 = data6[2]\n",
    "ht6 = data6[3]\n",
    "at6 = data6[4]\n",
    "ball6 = data6[5]\n",
    "\n",
    "print \"loading...\"\n",
    "\n",
    "svu.getVelo(ht6,hp6)\n",
    "svu.get_distance(ht6,hp6)\n",
    "svu.get_mass(ht6)\n",
    "svu.get_power(ht6,hp6)\n",
    "\n",
    "\n",
    "print \"loading...\"\n",
    "\n",
    "players7 = data7[0]\n",
    "hp7 = data7[1]\n",
    "ap7 = data7[2]\n",
    "ht7 = data7[3]\n",
    "at7 = data7[4]\n",
    "ball7 = data7[5]\n",
    "\n",
    "\n",
    "\n",
    "svu.getVelo(ht7,hp7)\n",
    "svu.get_distance(ht7,hp7)\n",
    "svu.get_mass(ht7)\n",
    "svu.get_power(ht7,hp7)\n",
    "\n",
    "\n",
    "print \"loading...\"\n",
    "\n",
    "svu.getVelo(at3, ap3)\n",
    "svu.get_distance(at3, ap3)\n",
    "svu.get_mass(at3)\n",
    "svu.get_power(at3,ap3)\n",
    "svu.getVelo(at4, ap4)\n",
    "svu.get_distance(at4, ap4)\n",
    "svu.get_mass(at4)\n",
    "svu.get_power(at4,ap4)\n",
    "svu.getVelo(at5, ap5)\n",
    "svu.get_distance(at5, ap5)\n",
    "svu.get_mass(at5)\n",
    "svu.get_power(at5,ap5)\n",
    "svu.getVelo(at6, ap6)\n",
    "svu.get_distance(at6, ap6)\n",
    "svu.get_mass(at6)\n",
    "svu.get_power(at6,ap6)\n",
    "svu.getVelo(at7, ap7)\n",
    "svu.get_distance(at7, ap7)\n",
    "svu.get_mass(at7)\n",
    "svu.get_power(at7,ap7)\n",
    "\n",
    "print \"DONE\""
   ]
  },
  {
   "cell_type": "markdown",
   "metadata": {},
   "source": [
    "# Home Team Velocities"
   ]
  },
  {
   "cell_type": "code",
   "execution_count": null,
   "metadata": {
    "collapsed": true,
    "scrolled": false
   },
   "outputs": [],
   "source": [
    "svu.plot_velo(ht1)\n",
    "# svu.plot_power(at)"
   ]
  },
  {
   "cell_type": "markdown",
   "metadata": {
    "collapsed": true
   },
   "source": [
    "# Away Team Velocities"
   ]
  },
  {
   "cell_type": "code",
   "execution_count": null,
   "metadata": {
    "collapsed": true
   },
   "outputs": [],
   "source": [
    "svu.plot_velo(at1)"
   ]
  },
  {
   "cell_type": "markdown",
   "metadata": {},
   "source": [
    "# Home Team Position #"
   ]
  },
  {
   "cell_type": "code",
   "execution_count": null,
   "metadata": {
    "collapsed": true
   },
   "outputs": [],
   "source": [
    "svu.plot_position(ht1)"
   ]
  },
  {
   "cell_type": "markdown",
   "metadata": {
    "scrolled": true
   },
   "source": [
    "# Away Team Position"
   ]
  },
  {
   "cell_type": "code",
   "execution_count": null,
   "metadata": {
    "collapsed": true
   },
   "outputs": [],
   "source": [
    "svu.plot_position(at1)"
   ]
  },
  {
   "cell_type": "markdown",
   "metadata": {
    "collapsed": true
   },
   "source": [
    "# Home Team Power"
   ]
  },
  {
   "cell_type": "code",
   "execution_count": null,
   "metadata": {
    "collapsed": true
   },
   "outputs": [],
   "source": [
    "svu.plot_power(ht1)"
   ]
  },
  {
   "cell_type": "markdown",
   "metadata": {},
   "source": [
    "# Away Team Power"
   ]
  },
  {
   "cell_type": "code",
   "execution_count": null,
   "metadata": {
    "collapsed": true
   },
   "outputs": [],
   "source": [
    "svu.plot_power(at1)"
   ]
  },
  {
   "cell_type": "markdown",
   "metadata": {},
   "source": [
    "# Plot of Basketball"
   ]
  },
  {
   "cell_type": "code",
   "execution_count": null,
   "metadata": {
    "collapsed": true,
    "scrolled": true
   },
   "outputs": [],
   "source": [
    "# start = 0\n",
    "# stop = len(ball1['-1']['x'])\n",
    "\n",
    "# fig = plt.figure(figsize=(12,6))\n",
    "\n",
    "# ax = fig.gca(projection='3d')\n",
    "\n",
    "# ax.plot(x[start:stop], y[start:stop], z[start:stop], label='parametric curve',color='orange')"
   ]
  },
  {
   "cell_type": "code",
   "execution_count": null,
   "metadata": {
    "collapsed": true
   },
   "outputs": [],
   "source": [
    "ht1.keys()"
   ]
  },
  {
   "cell_type": "markdown",
   "metadata": {},
   "source": [
    "# Individual Player Velocities Across a Series"
   ]
  },
  {
   "cell_type": "code",
   "execution_count": null,
   "metadata": {
    "collapsed": true,
    "scrolled": false
   },
   "outputs": [],
   "source": [
    "celtics = [ht1,ht2,at3,at4,ht5,at6,ht7]\n",
    "celtics.index(ht5)\n",
    "\n",
    "team_input = celtics\n",
    "key_input = 280587 # Al Horford\n",
    "\n",
    "\n",
    "\n",
    "svu.plot_velo_series(team_input,key_input)\n",
    "svu.series_velo_percentage(team_input,key_input)\n",
    "svu.series_velo(team_input,key_input)\n",
    "svu.series_velo_all_points(team_input,key_input)"
   ]
  },
  {
   "cell_type": "code",
   "execution_count": null,
   "metadata": {
    "collapsed": true
   },
   "outputs": [],
   "source": []
  }
 ],
 "metadata": {
  "kernelspec": {
   "display_name": "Python 3",
   "language": "python",
   "name": "python3"
  },
  "language_info": {
   "codemirror_mode": {
    "name": "ipython",
    "version": 3
   },
   "file_extension": ".py",
   "mimetype": "text/x-python",
   "name": "python",
   "nbconvert_exporter": "python",
   "pygments_lexer": "ipython3",
   "version": "3.6.2"
  }
 },
 "nbformat": 4,
 "nbformat_minor": 2
}
