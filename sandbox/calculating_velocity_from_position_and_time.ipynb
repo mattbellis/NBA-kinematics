{
 "cells": [
  {
   "cell_type": "code",
   "execution_count": 4,
   "metadata": {
    "collapsed": true
   },
   "outputs": [],
   "source": [
    "import numpy as np\n",
    "import matplotlib.pylab as plt\n",
    "#%matplotlib notebook\n",
    "%matplotlib inline"
   ]
  },
  {
   "cell_type": "code",
   "execution_count": 5,
   "metadata": {},
   "outputs": [
    {
     "data": {
      "image/png": "[encoded data removed]",
      "text/plain": [
       "<matplotlib.figure.Figure at 0x7d1ab5ee8cd0>"
      ]
     },
     "metadata": {},
     "output_type": "display_data"
    }
   ],
   "source": [
    "# Let's generate some position points for an object undergoing constant acceleration.\n",
    "# I'll give it some small random jitter to represent that it is not measured perfectly. \n",
    "\n",
    "x0 = 10.0\n",
    "v0 = 1.5\n",
    "a = 4.2\n",
    "\n",
    "# Let's do this in 0.1 second intervals for 4 seconds\n",
    "t = np.arange(0,4,0.1)\n",
    "\n",
    "x = x0 + v0*t + (1/2.0)*a*t**2\n",
    "\n",
    "x += np.random.normal(0.0, 0.1, len(x))\n",
    "\n",
    "plt.figure(figsize=(6,4))\n",
    "plt.plot(t,x,'.')\n",
    "plt.xlabel('time (seconds)',fontsize=14)\n",
    "plt.ylabel('x-position (meters)',fontsize=14)\n",
    "plt.tight_layout()"
   ]
  },
  {
   "cell_type": "markdown",
   "metadata": {},
   "source": [
    "A numerical way to calculate the velocity at any given point is to calculate the *slope* at that point by using the postition *before* and *after* that point. \n",
    "\n",
    "$$v_i = \\frac{x_{i+1} - x_{i-1}}{t_{i+1} - t_{i-1}}$$\n",
    "\n",
    "This means that we can't calculate the velocity in the same way for the first and last points, so we can either drop them or estimate them by replacing those calculations with a slightly different and probably less accurate calculation.\n",
    "\n",
    "$$v_0 = \\frac{x_{1} - x_{0}}{t_{1} - t_{0}}$$\n",
    "\n",
    "and for the last ($N^{th}$) point.\n",
    "\n",
    "$$v_N = \\frac{x_{N} - x_{N-1}}{t_{N} - t_{N-1}}$$"
   ]
  },
  {
   "cell_type": "code",
   "execution_count": 6,
   "metadata": {
    "collapsed": true
   },
   "outputs": [],
   "source": [
    "v = np.zeros(len(x))\n",
    "\n",
    "# Do all the *middle* ones\n",
    "v[1:-1] = (x[2:] - x[0:-2])/(t[2:] - t[0:-2])\n",
    "\n",
    "# Do the first point\n",
    "v[0] = (x[1] - x[0])/(t[1] - t[0])\n",
    "\n",
    "# Do the last point\n",
    "v[-1] = (x[-1] - x[-2])/(t[-1] - t[-2])"
   ]
  },
  {
   "cell_type": "code",
   "execution_count": 7,
   "metadata": {},
   "outputs": [
    {
     "data": {
      "image/png": "[encoded data removed]",
      "text/plain": [
       "<matplotlib.figure.Figure at 0x7d1ab506eb10>"
      ]
     },
     "metadata": {},
     "output_type": "display_data"
    }
   ],
   "source": [
    "# Plot them!\n",
    "\n",
    "plt.figure(figsize=(6,4))\n",
    "plt.plot(t,v,'.')\n",
    "plt.xlabel('time (seconds)',fontsize=14)\n",
    "plt.ylabel('velocity in x (m/s)',fontsize=14)\n",
    "plt.tight_layout()"
   ]
  },
  {
   "cell_type": "code",
   "execution_count": null,
   "metadata": {
    "collapsed": true
   },
   "outputs": [],
   "source": []
  }
 ],
 "metadata": {
  "kernelspec": {
   "display_name": "Python 3",
   "language": "python",
   "name": "python3"
  },
  "language_info": {
   "codemirror_mode": {
    "name": "ipython",
    "version": 3
   },
   "file_extension": ".py",
   "mimetype": "text/x-python",
   "name": "python",
   "nbconvert_exporter": "python",
   "pygments_lexer": "ipython3",
   "version": "3.6.2"
  }
 },
 "nbformat": 4,
 "nbformat_minor": 2
}
